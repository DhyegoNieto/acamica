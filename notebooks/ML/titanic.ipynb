{
 "cells": [
  {
   "cell_type": "markdown",
   "metadata": {},
   "source": [
    "# Ejercicio con la base de Titanic"
   ]
  },
  {
   "cell_type": "markdown",
   "metadata": {},
   "source": [
    "Pueden Descargar los Datos de: https://www.kaggle.com/c/titanic/data"
   ]
  },
  {
   "cell_type": "markdown",
   "metadata": {},
   "source": [
    "##### Vamos a entrenar modelos para predecir nuestra variable target \"**Survived**\" que representa si la persona sobrevivió o no al titanic\n",
    "##### Al ser un target binario vamos a entrenar modelos de **Clasificación** y vamos a ver que modelo tiene el mejor resultado\n",
    "##### La metrica de validación que vamos a utilizar es el **Accuracy** (¿Qué porcentaje de predicciones fue correcta?)"
   ]
  },
  {
   "cell_type": "markdown",
   "metadata": {},
   "source": [
    "## Consignas de Preprocesamiento:"
   ]
  },
  {
   "cell_type": "markdown",
   "metadata": {},
   "source": [
    " - Descargar el Dataset con las bases de Train y Test\n",
    " - Decidir en que casos deben Imputar datos Perdidos, borrarlos o dejarlos\n",
    " - Decidir que hacer con las variables categóricas: LabelEncoder, OneHotEncoder, Eliminarlas o dejarlas como están\n",
    " - Puedo crear variables nuevas a partir de los datos?\n",
    " - Aplicar las mismas transformaciones (TODAS) tanto a los datos de Train como de Test"
   ]
  },
  {
   "cell_type": "code",
   "execution_count": null,
   "metadata": {},
   "outputs": [],
   "source": []
  },
  {
   "cell_type": "code",
   "execution_count": null,
   "metadata": {},
   "outputs": [],
   "source": []
  },
  {
   "cell_type": "markdown",
   "metadata": {},
   "source": [
    "## Consignas de Modelado:"
   ]
  },
  {
   "cell_type": "markdown",
   "metadata": {},
   "source": [
    "- Entrenar un modelo de **Arbol de Decisión**\n",
    "- Calcular el Accuracy obtenido en Train\n",
    "\n",
    "\n",
    "- Convertir todas las variables en numéricas\n",
    "- Entrenar un modelo de **Regresión Logística**\n",
    "- Calcular el Accuracy obtenido en Train\n",
    "\n",
    "\n",
    "- Normalizar todas las variables numéricas\n",
    "- Entrenar un modelo de **KNN**\n",
    "- Calcular el Accuracy obtenido en Train"
   ]
  },
  {
   "cell_type": "code",
   "execution_count": null,
   "metadata": {},
   "outputs": [],
   "source": []
  },
  {
   "cell_type": "code",
   "execution_count": null,
   "metadata": {},
   "outputs": [],
   "source": []
  },
  {
   "cell_type": "code",
   "execution_count": null,
   "metadata": {},
   "outputs": [],
   "source": []
  },
  {
   "cell_type": "markdown",
   "metadata": {},
   "source": [
    "## Comparación de Modelos:"
   ]
  },
  {
   "cell_type": "markdown",
   "metadata": {},
   "source": [
    "- Calcular el Accuracy obtenido por cada modelo pero ahora en Test\n",
    "- ¿Qué modelo da el Accuracy más alto?"
   ]
  },
  {
   "cell_type": "markdown",
   "metadata": {},
   "source": [
    "##### Otras consignas para avanzar:"
   ]
  },
  {
   "cell_type": "markdown",
   "metadata": {},
   "source": [
    "- ¿Puedo realizar otra tarea de Feature Engineering para darle más información a mis modelos? \n",
    "\n",
    "*Nuevas Variables, Variables Transformadas, Agrupamientos*\n",
    "\n",
    "- ¿Puedo alterar los Parámetros de mis modelos para mejoarar el Accuracy logrado?\n",
    "\n",
    "*Ver para cada modelo que parámetros utiliza y testear que sucede cuando los voy modificando (en train y test)*\n",
    "\n",
    "- Explorar los Kernels de Kaggle para ver que hicieron y que les funcionó a otras personas sobre este mismo problema:\n",
    "\n",
    "*https://www.kaggle.com/c/titanic/kernels?sortBy=voteCount&group=everyone&pageSize=20&competitionId=3136*"
   ]
  },
  {
   "cell_type": "code",
   "execution_count": null,
   "metadata": {},
   "outputs": [],
   "source": []
  },
  {
   "cell_type": "code",
   "execution_count": null,
   "metadata": {},
   "outputs": [],
   "source": []
  },
  {
   "cell_type": "code",
   "execution_count": null,
   "metadata": {},
   "outputs": [],
   "source": []
  }
 ],
 "metadata": {
  "kernelspec": {
   "display_name": "Python 3",
   "language": "python",
   "name": "python3"
  },
  "language_info": {
   "codemirror_mode": {
    "name": "ipython",
    "version": 3
   },
   "file_extension": ".py",
   "mimetype": "text/x-python",
   "name": "python",
   "nbconvert_exporter": "python",
   "pygments_lexer": "ipython3",
   "version": "3.6.8"
  }
 },
 "nbformat": 4,
 "nbformat_minor": 2
}
