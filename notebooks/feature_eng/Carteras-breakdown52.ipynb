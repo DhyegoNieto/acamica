{
 "cells": [
  {
   "cell_type": "markdown",
   "metadata": {},
   "source": [
    "# Carteras de Lujo"
   ]
  },
  {
   "cell_type": "markdown",
   "metadata": {},
   "source": [
    "Junto con este ejercicio encontraran un archivo llamado `carteras.csv` que fue scrapeado del sitio https://www.voguebags.cn/."
   ]
  },
  {
   "cell_type": "markdown",
   "metadata": {},
   "source": [
    "## Cargar librerias"
   ]
  },
  {
   "cell_type": "code",
   "execution_count": 1,
   "metadata": {},
   "outputs": [],
   "source": [
    "import pandas as pd\n",
    "import numpy as np"
   ]
  },
  {
   "cell_type": "markdown",
   "metadata": {},
   "source": [
    "## Cargar los datos"
   ]
  },
  {
   "cell_type": "code",
   "execution_count": 4,
   "metadata": {},
   "outputs": [
    {
     "data": {
      "text/html": [
       "<div>\n",
       "<style scoped>\n",
       "    .dataframe tbody tr th:only-of-type {\n",
       "        vertical-align: middle;\n",
       "    }\n",
       "\n",
       "    .dataframe tbody tr th {\n",
       "        vertical-align: top;\n",
       "    }\n",
       "\n",
       "    .dataframe thead th {\n",
       "        text-align: right;\n",
       "    }\n",
       "</style>\n",
       "<table border=\"1\" class=\"dataframe\">\n",
       "  <thead>\n",
       "    <tr style=\"text-align: right;\">\n",
       "      <th></th>\n",
       "      <th>name</th>\n",
       "      <th>prices</th>\n",
       "      <th>designer</th>\n",
       "    </tr>\n",
       "  </thead>\n",
       "  <tbody>\n",
       "    <tr>\n",
       "      <th>0</th>\n",
       "      <td>3.1 Phillip Lim Pashli Mini Satchel Bag Nude/P...</td>\n",
       "      <td>250.0</td>\n",
       "      <td>31 phillip lim</td>\n",
       "    </tr>\n",
       "    <tr>\n",
       "      <th>1</th>\n",
       "      <td>3.1 Phillip Lim Pashli Medium Calf Satchel Bag...</td>\n",
       "      <td>250.0</td>\n",
       "      <td>31 phillip lim</td>\n",
       "    </tr>\n",
       "    <tr>\n",
       "      <th>2</th>\n",
       "      <td>3.1 Phillip Lim Pashli Mini Leather Satchel Ba...</td>\n",
       "      <td>250.0</td>\n",
       "      <td>31 phillip lim</td>\n",
       "    </tr>\n",
       "  </tbody>\n",
       "</table>\n",
       "</div>"
      ],
      "text/plain": [
       "                                                name  prices        designer\n",
       "0  3.1 Phillip Lim Pashli Mini Satchel Bag Nude/P...   250.0  31 phillip lim\n",
       "1  3.1 Phillip Lim Pashli Medium Calf Satchel Bag...   250.0  31 phillip lim\n",
       "2  3.1 Phillip Lim Pashli Mini Leather Satchel Ba...   250.0  31 phillip lim"
      ]
     },
     "execution_count": 4,
     "metadata": {},
     "output_type": "execute_result"
    }
   ],
   "source": [
    "df = pd.read_csv('./carteras.csv', encoding='latin-1')"
   ]
  },
  {
   "cell_type": "markdown",
   "metadata": {},
   "source": [
    "## Explorar los datos\n",
    "\n",
    "- ver algunas filas para tener una idea del contenido\n",
    "- ver si tiene nulos y cuantos\n",
    "- var los tipos de datos que contiene\n",
    "- cuales son las columnas\n",
    "- cuantos registros contiene"
   ]
  },
  {
   "cell_type": "code",
   "execution_count": 5,
   "metadata": {},
   "outputs": [
    {
     "data": {
      "text/html": [
       "<div>\n",
       "<style scoped>\n",
       "    .dataframe tbody tr th:only-of-type {\n",
       "        vertical-align: middle;\n",
       "    }\n",
       "\n",
       "    .dataframe tbody tr th {\n",
       "        vertical-align: top;\n",
       "    }\n",
       "\n",
       "    .dataframe thead th {\n",
       "        text-align: right;\n",
       "    }\n",
       "</style>\n",
       "<table border=\"1\" class=\"dataframe\">\n",
       "  <thead>\n",
       "    <tr style=\"text-align: right;\">\n",
       "      <th></th>\n",
       "      <th>name</th>\n",
       "      <th>prices</th>\n",
       "      <th>designer</th>\n",
       "    </tr>\n",
       "  </thead>\n",
       "  <tbody>\n",
       "    <tr>\n",
       "      <th>0</th>\n",
       "      <td>3.1 Phillip Lim Pashli Mini Satchel Bag Nude/P...</td>\n",
       "      <td>250.0</td>\n",
       "      <td>31 phillip lim</td>\n",
       "    </tr>\n",
       "    <tr>\n",
       "      <th>1</th>\n",
       "      <td>3.1 Phillip Lim Pashli Medium Calf Satchel Bag...</td>\n",
       "      <td>250.0</td>\n",
       "      <td>31 phillip lim</td>\n",
       "    </tr>\n",
       "    <tr>\n",
       "      <th>2</th>\n",
       "      <td>3.1 Phillip Lim Pashli Mini Leather Satchel Ba...</td>\n",
       "      <td>250.0</td>\n",
       "      <td>31 phillip lim</td>\n",
       "    </tr>\n",
       "  </tbody>\n",
       "</table>\n",
       "</div>"
      ],
      "text/plain": [
       "                                                name  prices        designer\n",
       "0  3.1 Phillip Lim Pashli Mini Satchel Bag Nude/P...   250.0  31 phillip lim\n",
       "1  3.1 Phillip Lim Pashli Medium Calf Satchel Bag...   250.0  31 phillip lim\n",
       "2  3.1 Phillip Lim Pashli Mini Leather Satchel Ba...   250.0  31 phillip lim"
      ]
     },
     "execution_count": 5,
     "metadata": {},
     "output_type": "execute_result"
    }
   ],
   "source": [
    "df.head(3)"
   ]
  },
  {
   "cell_type": "code",
   "execution_count": 7,
   "metadata": {},
   "outputs": [
    {
     "data": {
      "text/plain": [
       "True"
      ]
     },
     "execution_count": 7,
     "metadata": {},
     "output_type": "execute_result"
    }
   ],
   "source": [
    "df.isnull().values.any()"
   ]
  },
  {
   "cell_type": "code",
   "execution_count": 9,
   "metadata": {},
   "outputs": [
    {
     "data": {
      "text/plain": [
       "name        2\n",
       "prices      2\n",
       "designer    0\n",
       "dtype: int64"
      ]
     },
     "execution_count": 9,
     "metadata": {},
     "output_type": "execute_result"
    }
   ],
   "source": [
    "df.isnull().sum()"
   ]
  },
  {
   "cell_type": "code",
   "execution_count": 10,
   "metadata": {},
   "outputs": [
    {
     "data": {
      "text/plain": [
       "name         object\n",
       "prices      float64\n",
       "designer     object\n",
       "dtype: object"
      ]
     },
     "execution_count": 10,
     "metadata": {},
     "output_type": "execute_result"
    }
   ],
   "source": [
    "df.dtypes"
   ]
  },
  {
   "cell_type": "code",
   "execution_count": 11,
   "metadata": {},
   "outputs": [
    {
     "data": {
      "text/plain": [
       "Index(['name', 'prices', 'designer'], dtype='object')"
      ]
     },
     "execution_count": 11,
     "metadata": {},
     "output_type": "execute_result"
    }
   ],
   "source": [
    "df.columns"
   ]
  },
  {
   "cell_type": "code",
   "execution_count": 14,
   "metadata": {},
   "outputs": [
    {
     "name": "stdout",
     "output_type": "stream",
     "text": [
      "Cantidad de registros:\t 7133\n"
     ]
    }
   ],
   "source": [
    "print('Cantidad de registros:\\t', df.shape[0])"
   ]
  },
  {
   "cell_type": "markdown",
   "metadata": {},
   "source": [
    "## Estadisticas\n",
    "\n",
    "Cuantas carteras hay de cada diseñador"
   ]
  },
  {
   "cell_type": "code",
   "execution_count": 15,
   "metadata": {},
   "outputs": [
    {
     "data": {
      "text/html": [
       "<div>\n",
       "<style scoped>\n",
       "    .dataframe tbody tr th:only-of-type {\n",
       "        vertical-align: middle;\n",
       "    }\n",
       "\n",
       "    .dataframe tbody tr th {\n",
       "        vertical-align: top;\n",
       "    }\n",
       "\n",
       "    .dataframe thead th {\n",
       "        text-align: right;\n",
       "    }\n",
       "</style>\n",
       "<table border=\"1\" class=\"dataframe\">\n",
       "  <thead>\n",
       "    <tr style=\"text-align: right;\">\n",
       "      <th></th>\n",
       "      <th>prices</th>\n",
       "    </tr>\n",
       "    <tr>\n",
       "      <th>designer</th>\n",
       "      <th></th>\n",
       "    </tr>\n",
       "  </thead>\n",
       "  <tbody>\n",
       "    <tr>\n",
       "      <th>31 phillip lim</th>\n",
       "      <td>8635.0</td>\n",
       "    </tr>\n",
       "    <tr>\n",
       "      <th>alexander wang</th>\n",
       "      <td>9145.0</td>\n",
       "    </tr>\n",
       "    <tr>\n",
       "      <th>balenciaga</th>\n",
       "      <td>155107.0</td>\n",
       "    </tr>\n",
       "    <tr>\n",
       "      <th>bottega veneta</th>\n",
       "      <td>56940.0</td>\n",
       "    </tr>\n",
       "    <tr>\n",
       "      <th>burberry</th>\n",
       "      <td>32933.0</td>\n",
       "    </tr>\n",
       "    <tr>\n",
       "      <th>bvlgari</th>\n",
       "      <td>24283.0</td>\n",
       "    </tr>\n",
       "    <tr>\n",
       "      <th>celine</th>\n",
       "      <td>119375.0</td>\n",
       "    </tr>\n",
       "    <tr>\n",
       "      <th>chloe</th>\n",
       "      <td>73850.0</td>\n",
       "    </tr>\n",
       "    <tr>\n",
       "      <th>christian dior</th>\n",
       "      <td>56960.0</td>\n",
       "    </tr>\n",
       "    <tr>\n",
       "      <th>dolce gabbana</th>\n",
       "      <td>55283.0</td>\n",
       "    </tr>\n",
       "    <tr>\n",
       "      <th>fendi</th>\n",
       "      <td>332404.0</td>\n",
       "    </tr>\n",
       "    <tr>\n",
       "      <th>givenchy</th>\n",
       "      <td>103088.0</td>\n",
       "    </tr>\n",
       "    <tr>\n",
       "      <th>goyard</th>\n",
       "      <td>3304.0</td>\n",
       "    </tr>\n",
       "    <tr>\n",
       "      <th>gucci</th>\n",
       "      <td>252366.0</td>\n",
       "    </tr>\n",
       "    <tr>\n",
       "      <th>hermes</th>\n",
       "      <td>139213.0</td>\n",
       "    </tr>\n",
       "    <tr>\n",
       "      <th>miu miu</th>\n",
       "      <td>50430.0</td>\n",
       "    </tr>\n",
       "    <tr>\n",
       "      <th>prada</th>\n",
       "      <td>202074.0</td>\n",
       "    </tr>\n",
       "    <tr>\n",
       "      <th>saint laurent</th>\n",
       "      <td>87563.0</td>\n",
       "    </tr>\n",
       "    <tr>\n",
       "      <th>valentino</th>\n",
       "      <td>47143.0</td>\n",
       "    </tr>\n",
       "  </tbody>\n",
       "</table>\n",
       "</div>"
      ],
      "text/plain": [
       "                  prices\n",
       "designer                \n",
       "31 phillip lim    8635.0\n",
       "alexander wang    9145.0\n",
       "balenciaga      155107.0\n",
       "bottega veneta   56940.0\n",
       "burberry         32933.0\n",
       "bvlgari          24283.0\n",
       "celine          119375.0\n",
       "chloe            73850.0\n",
       "christian dior   56960.0\n",
       "dolce gabbana    55283.0\n",
       "fendi           332404.0\n",
       "givenchy        103088.0\n",
       "goyard            3304.0\n",
       "gucci           252366.0\n",
       "hermes          139213.0\n",
       "miu miu          50430.0\n",
       "prada           202074.0\n",
       "saint laurent    87563.0\n",
       "valentino        47143.0"
      ]
     },
     "execution_count": 15,
     "metadata": {},
     "output_type": "execute_result"
    }
   ],
   "source": [
    "df.groupby('designer').sum()"
   ]
  },
  {
   "cell_type": "markdown",
   "metadata": {},
   "source": [
    "Cual es el maximo y minimo precio"
   ]
  },
  {
   "cell_type": "code",
   "execution_count": 19,
   "metadata": {},
   "outputs": [
    {
     "name": "stdout",
     "output_type": "stream",
     "text": [
      "Precio máximo:\t 799.0\n",
      "Precio mínimo:\t 99.0\n"
     ]
    }
   ],
   "source": [
    "print('Precio máximo:\\t', df['prices'].max())\n",
    "print('Precio mínimo:\\t', df['prices'].min())"
   ]
  },
  {
   "cell_type": "markdown",
   "metadata": {},
   "source": [
    "Precio promedio"
   ]
  },
  {
   "cell_type": "code",
   "execution_count": 22,
   "metadata": {},
   "outputs": [
    {
     "name": "stdout",
     "output_type": "stream",
     "text": [
      "Precio promedio:\t 253.83\n"
     ]
    }
   ],
   "source": [
    "print('Precio promedio:\\t', format(df['prices'].mean(), '.2f'))"
   ]
  },
  {
   "cell_type": "markdown",
   "metadata": {},
   "source": [
    "Mediana del precio"
   ]
  },
  {
   "cell_type": "code",
   "execution_count": 23,
   "metadata": {},
   "outputs": [
    {
     "name": "stdout",
     "output_type": "stream",
     "text": [
      "Mediana del precio:\t 249.00\n"
     ]
    }
   ],
   "source": [
    "print('Mediana del precio:\\t', format(df['prices'].median(), '.2f'))"
   ]
  },
  {
   "cell_type": "markdown",
   "metadata": {},
   "source": [
    "De cual diseñador es la cartera mas cara"
   ]
  },
  {
   "cell_type": "code",
   "execution_count": 35,
   "metadata": {},
   "outputs": [
    {
     "data": {
      "text/html": [
       "<div>\n",
       "<style scoped>\n",
       "    .dataframe tbody tr th:only-of-type {\n",
       "        vertical-align: middle;\n",
       "    }\n",
       "\n",
       "    .dataframe tbody tr th {\n",
       "        vertical-align: top;\n",
       "    }\n",
       "\n",
       "    .dataframe thead th {\n",
       "        text-align: right;\n",
       "    }\n",
       "</style>\n",
       "<table border=\"1\" class=\"dataframe\">\n",
       "  <thead>\n",
       "    <tr style=\"text-align: right;\">\n",
       "      <th></th>\n",
       "      <th>name</th>\n",
       "      <th>prices</th>\n",
       "      <th>designer</th>\n",
       "    </tr>\n",
       "  </thead>\n",
       "  <tbody>\n",
       "    <tr>\n",
       "      <th>5494</th>\n",
       "      <td>Hermes Sakkuberuran 40cm Black Original Leathe...</td>\n",
       "      <td>799.0</td>\n",
       "      <td>hermes</td>\n",
       "    </tr>\n",
       "  </tbody>\n",
       "</table>\n",
       "</div>"
      ],
      "text/plain": [
       "                                                   name  prices designer\n",
       "5494  Hermes Sakkuberuran 40cm Black Original Leathe...   799.0   hermes"
      ]
     },
     "execution_count": 35,
     "metadata": {},
     "output_type": "execute_result"
    }
   ],
   "source": [
    "precio_max = df.prices.max()\n",
    "df.loc[df['prices']==precio_max]"
   ]
  },
  {
   "cell_type": "markdown",
   "metadata": {},
   "source": [
    "De cual diseñador es la cartera mas barata"
   ]
  },
  {
   "cell_type": "code",
   "execution_count": 31,
   "metadata": {},
   "outputs": [
    {
     "data": {
      "text/html": [
       "<div>\n",
       "<style scoped>\n",
       "    .dataframe tbody tr th:only-of-type {\n",
       "        vertical-align: middle;\n",
       "    }\n",
       "\n",
       "    .dataframe tbody tr th {\n",
       "        vertical-align: top;\n",
       "    }\n",
       "\n",
       "    .dataframe thead th {\n",
       "        text-align: right;\n",
       "    }\n",
       "</style>\n",
       "<table border=\"1\" class=\"dataframe\">\n",
       "  <thead>\n",
       "    <tr style=\"text-align: right;\">\n",
       "      <th></th>\n",
       "      <th>name</th>\n",
       "      <th>prices</th>\n",
       "      <th>designer</th>\n",
       "    </tr>\n",
       "  </thead>\n",
       "  <tbody>\n",
       "    <tr>\n",
       "      <th>5036</th>\n",
       "      <td>Gucci Black Embossed Leather Wristlet Clutch Bag</td>\n",
       "      <td>99.0</td>\n",
       "      <td>gucci</td>\n",
       "    </tr>\n",
       "    <tr>\n",
       "      <th>5037</th>\n",
       "      <td>Gucci Blue Soft Imported Calfskin Leather Wris...</td>\n",
       "      <td>99.0</td>\n",
       "      <td>gucci</td>\n",
       "    </tr>\n",
       "    <tr>\n",
       "      <th>5038</th>\n",
       "      <td>Gucci Coffee Embossed Leather Wristlet Clutch Bag</td>\n",
       "      <td>99.0</td>\n",
       "      <td>gucci</td>\n",
       "    </tr>\n",
       "  </tbody>\n",
       "</table>\n",
       "</div>"
      ],
      "text/plain": [
       "                                                   name  prices designer\n",
       "5036   Gucci Black Embossed Leather Wristlet Clutch Bag    99.0    gucci\n",
       "5037  Gucci Blue Soft Imported Calfskin Leather Wris...    99.0    gucci\n",
       "5038  Gucci Coffee Embossed Leather Wristlet Clutch Bag    99.0    gucci"
      ]
     },
     "execution_count": 31,
     "metadata": {},
     "output_type": "execute_result"
    }
   ],
   "source": [
    "precio_min = df.prices.min()\n",
    "cartera_mas_barata = df[df['prices']==precio_min]\n",
    "cartera_mas_barata.head(3)"
   ]
  },
  {
   "cell_type": "code",
   "execution_count": 33,
   "metadata": {},
   "outputs": [
    {
     "data": {
      "text/html": [
       "<div>\n",
       "<style scoped>\n",
       "    .dataframe tbody tr th:only-of-type {\n",
       "        vertical-align: middle;\n",
       "    }\n",
       "\n",
       "    .dataframe tbody tr th {\n",
       "        vertical-align: top;\n",
       "    }\n",
       "\n",
       "    .dataframe thead th {\n",
       "        text-align: right;\n",
       "    }\n",
       "</style>\n",
       "<table border=\"1\" class=\"dataframe\">\n",
       "  <thead>\n",
       "    <tr style=\"text-align: right;\">\n",
       "      <th></th>\n",
       "      <th>name</th>\n",
       "      <th>prices</th>\n",
       "      <th>designer</th>\n",
       "    </tr>\n",
       "  </thead>\n",
       "  <tbody>\n",
       "    <tr>\n",
       "      <th>5036</th>\n",
       "      <td>Gucci Black Embossed Leather Wristlet Clutch Bag</td>\n",
       "      <td>99.0</td>\n",
       "      <td>gucci</td>\n",
       "    </tr>\n",
       "    <tr>\n",
       "      <th>5037</th>\n",
       "      <td>Gucci Blue Soft Imported Calfskin Leather Wris...</td>\n",
       "      <td>99.0</td>\n",
       "      <td>gucci</td>\n",
       "    </tr>\n",
       "    <tr>\n",
       "      <th>5038</th>\n",
       "      <td>Gucci Coffee Embossed Leather Wristlet Clutch Bag</td>\n",
       "      <td>99.0</td>\n",
       "      <td>gucci</td>\n",
       "    </tr>\n",
       "  </tbody>\n",
       "</table>\n",
       "</div>"
      ],
      "text/plain": [
       "                                                   name  prices designer\n",
       "5036   Gucci Black Embossed Leather Wristlet Clutch Bag    99.0    gucci\n",
       "5037  Gucci Blue Soft Imported Calfskin Leather Wris...    99.0    gucci\n",
       "5038  Gucci Coffee Embossed Leather Wristlet Clutch Bag    99.0    gucci"
      ]
     },
     "execution_count": 33,
     "metadata": {},
     "output_type": "execute_result"
    }
   ],
   "source": [
    "precio_min = df.prices.min()\n",
    "df.loc[df['prices']==precio_min].head(3)"
   ]
  },
  {
   "cell_type": "markdown",
   "metadata": {},
   "source": [
    "## Graficos\n",
    "\n",
    "Importar librerias"
   ]
  },
  {
   "cell_type": "code",
   "execution_count": 36,
   "metadata": {},
   "outputs": [],
   "source": [
    "import matplotlib.pyplot as plt\n",
    "import seaborn as sns"
   ]
  },
  {
   "cell_type": "markdown",
   "metadata": {},
   "source": [
    "Hacer un histograma general de los precios"
   ]
  },
  {
   "cell_type": "code",
   "execution_count": 38,
   "metadata": {},
   "outputs": [
    {
     "data": {
      "text/plain": [
       "<matplotlib.axes._subplots.AxesSubplot at 0x1ee2c8555c0>"
      ]
     },
     "execution_count": 38,
     "metadata": {},
     "output_type": "execute_result"
    },
    {
     "data": {
      "image/png": "[encoded data removed]",
      "text/plain": [
       "<Figure size 432x288 with 1 Axes>"
      ]
     },
     "metadata": {
      "needs_background": "light"
     },
     "output_type": "display_data"
    }
   ],
   "source": [
    "df['prices'].dropna(inplace=True)\n",
    "sns.distplot(df['prices'])"
   ]
  },
  {
   "cell_type": "markdown",
   "metadata": {},
   "source": [
    "Hacer un boxplot de los precios"
   ]
  },
  {
   "cell_type": "code",
   "execution_count": 39,
   "metadata": {},
   "outputs": [
    {
     "data": {
      "text/plain": [
       "<matplotlib.axes._subplots.AxesSubplot at 0x1ee2c94c780>"
      ]
     },
     "execution_count": 39,
     "metadata": {},
     "output_type": "execute_result"
    },
    {
     "data": {
      "image/png": "[encoded data removed]",
      "text/plain": [
       "<Figure size 432x288 with 1 Axes>"
      ]
     },
     "metadata": {
      "needs_background": "light"
     },
     "output_type": "display_data"
    }
   ],
   "source": [
    "sns.boxplot(x=df['prices'])"
   ]
  },
  {
   "cell_type": "markdown",
   "metadata": {},
   "source": [
    "Hacer todos los boxplot del precio segun el diseñador"
   ]
  },
  {
   "cell_type": "code",
   "execution_count": 40,
   "metadata": {},
   "outputs": [
    {
     "data": {
      "text/plain": [
       "<matplotlib.axes._subplots.AxesSubplot at 0x1ee2c9a9be0>"
      ]
     },
     "execution_count": 40,
     "metadata": {},
     "output_type": "execute_result"
    },
    {
     "data": {
      "image/png": "[encoded data removed]",
      "text/plain": [
       "<Figure size 432x288 with 1 Axes>"
      ]
     },
     "metadata": {
      "needs_background": "light"
     },
     "output_type": "display_data"
    }
   ],
   "source": [
    "sns.boxplot(x=df['prices'], y=df['designer'])"
   ]
  },
  {
   "cell_type": "code",
   "execution_count": null,
   "metadata": {},
   "outputs": [],
   "source": []
  },
  {
   "cell_type": "code",
   "execution_count": null,
   "metadata": {},
   "outputs": [],
   "source": []
  }
 ],
 "metadata": {
  "kernelspec": {
   "display_name": "Python 3",
   "language": "python",
   "name": "python3"
  },
  "language_info": {
   "codemirror_mode": {
    "name": "ipython",
    "version": 3
   },
   "file_extension": ".py",
   "mimetype": "text/x-python",
   "name": "python",
   "nbconvert_exporter": "python",
   "pygments_lexer": "ipython3",
   "version": "3.6.8"
  }
 },
 "nbformat": 4,
 "nbformat_minor": 2
}
