{
 "cells": [
  {
   "cell_type": "code",
   "execution_count": 2,
   "metadata": {},
   "outputs": [],
   "source": [
    "import numpy as np\n",
    "import pandas as pd\n",
    "import matplotlib.pyplot as plt\n",
    "import seaborn as sns"
   ]
  },
  {
   "cell_type": "code",
   "execution_count": 5,
   "metadata": {},
   "outputs": [],
   "source": [
    "df = pd.read_csv('./../dataset/molinetes_historico.csv', nrows=100, sep=';', parse_dates=['FECHA', 'PERIODO'])"
   ]
  },
  {
   "cell_type": "code",
   "execution_count": 6,
   "metadata": {},
   "outputs": [
    {
     "data": {
      "text/html": [
       "<div>\n",
       "<style scoped>\n",
       "    .dataframe tbody tr th:only-of-type {\n",
       "        vertical-align: middle;\n",
       "    }\n",
       "\n",
       "    .dataframe tbody tr th {\n",
       "        vertical-align: top;\n",
       "    }\n",
       "\n",
       "    .dataframe thead th {\n",
       "        text-align: right;\n",
       "    }\n",
       "</style>\n",
       "<table border=\"1\" class=\"dataframe\">\n",
       "  <thead>\n",
       "    <tr style=\"text-align: right;\">\n",
       "      <th></th>\n",
       "      <th>PERIODO</th>\n",
       "      <th>FECHA</th>\n",
       "      <th>DESDE</th>\n",
       "      <th>HASTA</th>\n",
       "      <th>LINEA</th>\n",
       "      <th>MOLINETE</th>\n",
       "      <th>ESTACION</th>\n",
       "      <th>PAX_PAGOS</th>\n",
       "      <th>PAX_PASES_PAGOS</th>\n",
       "      <th>PAX_FRANQ</th>\n",
       "      <th>TOTAL</th>\n",
       "      <th>ID</th>\n",
       "    </tr>\n",
       "  </thead>\n",
       "  <tbody>\n",
       "    <tr>\n",
       "      <th>0</th>\n",
       "      <td>201701</td>\n",
       "      <td>2017-01-01</td>\n",
       "      <td>08:00:00</td>\n",
       "      <td>08:15:00</td>\n",
       "      <td>LINEA_H</td>\n",
       "      <td>LINEA_H_CASEROS_SUR_TURN02</td>\n",
       "      <td>CASEROS</td>\n",
       "      <td>1</td>\n",
       "      <td>0</td>\n",
       "      <td>0</td>\n",
       "      <td>1</td>\n",
       "      <td>1</td>\n",
       "    </tr>\n",
       "    <tr>\n",
       "      <th>1</th>\n",
       "      <td>201701</td>\n",
       "      <td>2017-01-01</td>\n",
       "      <td>08:00:00</td>\n",
       "      <td>08:15:00</td>\n",
       "      <td>LINEA_H</td>\n",
       "      <td>LINEA_H_CASEROS_NORTE_TURN02</td>\n",
       "      <td>CASEROS</td>\n",
       "      <td>1</td>\n",
       "      <td>0</td>\n",
       "      <td>0</td>\n",
       "      <td>1</td>\n",
       "      <td>1</td>\n",
       "    </tr>\n",
       "    <tr>\n",
       "      <th>2</th>\n",
       "      <td>201701</td>\n",
       "      <td>2017-01-01</td>\n",
       "      <td>08:15:00</td>\n",
       "      <td>08:30:00</td>\n",
       "      <td>LINEA_H</td>\n",
       "      <td>LINEA_H_CASEROS_SUR_TURN02</td>\n",
       "      <td>CASEROS</td>\n",
       "      <td>2</td>\n",
       "      <td>0</td>\n",
       "      <td>0</td>\n",
       "      <td>2</td>\n",
       "      <td>1</td>\n",
       "    </tr>\n",
       "    <tr>\n",
       "      <th>3</th>\n",
       "      <td>201701</td>\n",
       "      <td>2017-01-01</td>\n",
       "      <td>08:15:00</td>\n",
       "      <td>08:30:00</td>\n",
       "      <td>LINEA_H</td>\n",
       "      <td>LINEA_H_CASEROS_SUR_TURN01</td>\n",
       "      <td>CASEROS</td>\n",
       "      <td>1</td>\n",
       "      <td>0</td>\n",
       "      <td>0</td>\n",
       "      <td>1</td>\n",
       "      <td>1</td>\n",
       "    </tr>\n",
       "    <tr>\n",
       "      <th>4</th>\n",
       "      <td>201701</td>\n",
       "      <td>2017-01-01</td>\n",
       "      <td>08:30:00</td>\n",
       "      <td>08:45:00</td>\n",
       "      <td>LINEA_H</td>\n",
       "      <td>LINEA_H_CASEROS_NORTE_TURN01</td>\n",
       "      <td>CASEROS</td>\n",
       "      <td>2</td>\n",
       "      <td>0</td>\n",
       "      <td>0</td>\n",
       "      <td>2</td>\n",
       "      <td>1</td>\n",
       "    </tr>\n",
       "  </tbody>\n",
       "</table>\n",
       "</div>"
      ],
      "text/plain": [
       "  PERIODO      FECHA     DESDE     HASTA    LINEA  \\\n",
       "0  201701 2017-01-01  08:00:00  08:15:00  LINEA_H   \n",
       "1  201701 2017-01-01  08:00:00  08:15:00  LINEA_H   \n",
       "2  201701 2017-01-01  08:15:00  08:30:00  LINEA_H   \n",
       "3  201701 2017-01-01  08:15:00  08:30:00  LINEA_H   \n",
       "4  201701 2017-01-01  08:30:00  08:45:00  LINEA_H   \n",
       "\n",
       "                       MOLINETE ESTACION  PAX_PAGOS  PAX_PASES_PAGOS  \\\n",
       "0    LINEA_H_CASEROS_SUR_TURN02  CASEROS          1                0   \n",
       "1  LINEA_H_CASEROS_NORTE_TURN02  CASEROS          1                0   \n",
       "2    LINEA_H_CASEROS_SUR_TURN02  CASEROS          2                0   \n",
       "3    LINEA_H_CASEROS_SUR_TURN01  CASEROS          1                0   \n",
       "4  LINEA_H_CASEROS_NORTE_TURN01  CASEROS          2                0   \n",
       "\n",
       "   PAX_FRANQ  TOTAL  ID  \n",
       "0          0      1   1  \n",
       "1          0      1   1  \n",
       "2          0      2   1  \n",
       "3          0      1   1  \n",
       "4          0      2   1  "
      ]
     },
     "execution_count": 6,
     "metadata": {},
     "output_type": "execute_result"
    }
   ],
   "source": [
    "df.head(5)"
   ]
  },
  {
   "cell_type": "code",
   "execution_count": 7,
   "metadata": {},
   "outputs": [
    {
     "name": "stdout",
     "output_type": "stream",
     "text": [
      "<class 'pandas.core.frame.DataFrame'>\n",
      "RangeIndex: 100 entries, 0 to 99\n",
      "Data columns (total 12 columns):\n",
      "PERIODO            100 non-null object\n",
      "FECHA              100 non-null datetime64[ns]\n",
      "DESDE              100 non-null object\n",
      "HASTA              100 non-null object\n",
      "LINEA              100 non-null object\n",
      "MOLINETE           100 non-null object\n",
      "ESTACION           100 non-null object\n",
      "PAX_PAGOS          100 non-null int64\n",
      "PAX_PASES_PAGOS    100 non-null int64\n",
      "PAX_FRANQ          100 non-null int64\n",
      "TOTAL              100 non-null int64\n",
      "ID                 100 non-null int64\n",
      "dtypes: datetime64[ns](1), int64(5), object(6)\n",
      "memory usage: 9.5+ KB\n"
     ]
    }
   ],
   "source": [
    "df.info()"
   ]
  },
  {
   "cell_type": "code",
   "execution_count": null,
   "metadata": {},
   "outputs": [],
   "source": []
  }
 ],
 "metadata": {
  "kernelspec": {
   "display_name": "Python 3",
   "language": "python",
   "name": "python3"
  },
  "language_info": {
   "codemirror_mode": {
    "name": "ipython",
    "version": 3
   },
   "file_extension": ".py",
   "mimetype": "text/x-python",
   "name": "python",
   "nbconvert_exporter": "python",
   "pygments_lexer": "ipython3",
   "version": "3.6.8"
  }
 },
 "nbformat": 4,
 "nbformat_minor": 2
}
