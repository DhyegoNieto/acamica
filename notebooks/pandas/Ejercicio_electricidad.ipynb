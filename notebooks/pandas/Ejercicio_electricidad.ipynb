{
 "cells": [
  {
   "cell_type": "markdown",
   "metadata": {},
   "source": [
    "## Importar librerías"
   ]
  },
  {
   "cell_type": "code",
   "execution_count": 10,
   "metadata": {},
   "outputs": [],
   "source": [
    "import pandas as pd\n",
    "import numpy as np"
   ]
  },
  {
   "cell_type": "markdown",
   "metadata": {},
   "source": [
    "## Leer Dataset"
   ]
  },
  {
   "cell_type": "markdown",
   "metadata": {},
   "source": [
    "*1. Leer Dataset con pandas (tip: pd.read_csv).*"
   ]
  },
  {
   "cell_type": "code",
   "execution_count": 36,
   "metadata": {},
   "outputs": [],
   "source": [
    "#Ruta donde se va a leer el dataset\n",
    "path= './../../dataset/demanda-de-electricidad-datos-mensuales.csv'\n",
    "#Se le asigna a una variable de python el dataset por medio de la funcion de Pandas \"pd.read_csv()\"\n",
    "#dataset = pd.read_csv(path, parse_dates=['indice_tiempo']) \n",
    "dataset = pd.read_csv(path)"
   ]
  },
  {
   "cell_type": "markdown",
   "metadata": {},
   "source": [
    "### Primera exploración del dataset con pandas.\n",
    "###### .head()\n",
    "    la funcion head te muestra las 5 primeras filas de tu dataset."
   ]
  },
  {
   "cell_type": "code",
   "execution_count": 3,
   "metadata": {},
   "outputs": [
    {
     "data": {
      "text/html": [
       "<div>\n",
       "<style scoped>\n",
       "    .dataframe tbody tr th:only-of-type {\n",
       "        vertical-align: middle;\n",
       "    }\n",
       "\n",
       "    .dataframe tbody tr th {\n",
       "        vertical-align: top;\n",
       "    }\n",
       "\n",
       "    .dataframe thead th {\n",
       "        text-align: right;\n",
       "    }\n",
       "</style>\n",
       "<table border=\"1\" class=\"dataframe\">\n",
       "  <thead>\n",
       "    <tr style=\"text-align: right;\">\n",
       "      <th></th>\n",
       "      <th>indice_tiempo</th>\n",
       "      <th>demanda_total</th>\n",
       "      <th>demanda_residencial</th>\n",
       "      <th>comercio_e_industria</th>\n",
       "      <th>grandes_usuarios</th>\n",
       "      <th>temperatura_promedio</th>\n",
       "      <th>potencia_maxima</th>\n",
       "      <th>ede_tucuman</th>\n",
       "      <th>edelap_sa</th>\n",
       "      <th>edenor_distribuidor</th>\n",
       "      <th>...</th>\n",
       "      <th>energia_de_catamarca_sa</th>\n",
       "      <th>energia_de_entre_rios_sa</th>\n",
       "      <th>energia_de_mendoza_sa</th>\n",
       "      <th>energia_san_juan_sa_exedessa</th>\n",
       "      <th>epec_distribuidor</th>\n",
       "      <th>epen_distribuidor</th>\n",
       "      <th>epesf_distribuidor</th>\n",
       "      <th>recursos_y_energia_formosa_sa</th>\n",
       "      <th>secheep</th>\n",
       "      <th>spse_santa_cruz</th>\n",
       "    </tr>\n",
       "  </thead>\n",
       "  <tbody>\n",
       "    <tr>\n",
       "      <th>0</th>\n",
       "      <td>2001-01-01</td>\n",
       "      <td>6866.26</td>\n",
       "      <td>NaN</td>\n",
       "      <td>NaN</td>\n",
       "      <td>NaN</td>\n",
       "      <td>25.432</td>\n",
       "      <td>13501.0</td>\n",
       "      <td>NaN</td>\n",
       "      <td>NaN</td>\n",
       "      <td>NaN</td>\n",
       "      <td>...</td>\n",
       "      <td>NaN</td>\n",
       "      <td>NaN</td>\n",
       "      <td>NaN</td>\n",
       "      <td>NaN</td>\n",
       "      <td>NaN</td>\n",
       "      <td>NaN</td>\n",
       "      <td>NaN</td>\n",
       "      <td>NaN</td>\n",
       "      <td>NaN</td>\n",
       "      <td>NaN</td>\n",
       "    </tr>\n",
       "    <tr>\n",
       "      <th>1</th>\n",
       "      <td>2001-02-01</td>\n",
       "      <td>6473.10</td>\n",
       "      <td>NaN</td>\n",
       "      <td>NaN</td>\n",
       "      <td>NaN</td>\n",
       "      <td>25.596</td>\n",
       "      <td>14061.0</td>\n",
       "      <td>NaN</td>\n",
       "      <td>NaN</td>\n",
       "      <td>NaN</td>\n",
       "      <td>...</td>\n",
       "      <td>NaN</td>\n",
       "      <td>NaN</td>\n",
       "      <td>NaN</td>\n",
       "      <td>NaN</td>\n",
       "      <td>NaN</td>\n",
       "      <td>NaN</td>\n",
       "      <td>NaN</td>\n",
       "      <td>NaN</td>\n",
       "      <td>NaN</td>\n",
       "      <td>NaN</td>\n",
       "    </tr>\n",
       "    <tr>\n",
       "      <th>2</th>\n",
       "      <td>2001-03-01</td>\n",
       "      <td>6952.30</td>\n",
       "      <td>NaN</td>\n",
       "      <td>NaN</td>\n",
       "      <td>NaN</td>\n",
       "      <td>22.852</td>\n",
       "      <td>13780.0</td>\n",
       "      <td>NaN</td>\n",
       "      <td>NaN</td>\n",
       "      <td>NaN</td>\n",
       "      <td>...</td>\n",
       "      <td>NaN</td>\n",
       "      <td>NaN</td>\n",
       "      <td>NaN</td>\n",
       "      <td>NaN</td>\n",
       "      <td>NaN</td>\n",
       "      <td>NaN</td>\n",
       "      <td>NaN</td>\n",
       "      <td>NaN</td>\n",
       "      <td>NaN</td>\n",
       "      <td>NaN</td>\n",
       "    </tr>\n",
       "  </tbody>\n",
       "</table>\n",
       "<p>3 rows × 30 columns</p>\n",
       "</div>"
      ],
      "text/plain": [
       "  indice_tiempo  demanda_total  demanda_residencial  comercio_e_industria  \\\n",
       "0    2001-01-01        6866.26                  NaN                   NaN   \n",
       "1    2001-02-01        6473.10                  NaN                   NaN   \n",
       "2    2001-03-01        6952.30                  NaN                   NaN   \n",
       "\n",
       "   grandes_usuarios  temperatura_promedio  potencia_maxima  ede_tucuman  \\\n",
       "0               NaN                25.432          13501.0          NaN   \n",
       "1               NaN                25.596          14061.0          NaN   \n",
       "2               NaN                22.852          13780.0          NaN   \n",
       "\n",
       "   edelap_sa  edenor_distribuidor  ...  energia_de_catamarca_sa  \\\n",
       "0        NaN                  NaN  ...                      NaN   \n",
       "1        NaN                  NaN  ...                      NaN   \n",
       "2        NaN                  NaN  ...                      NaN   \n",
       "\n",
       "   energia_de_entre_rios_sa  energia_de_mendoza_sa  \\\n",
       "0                       NaN                    NaN   \n",
       "1                       NaN                    NaN   \n",
       "2                       NaN                    NaN   \n",
       "\n",
       "   energia_san_juan_sa_exedessa  epec_distribuidor  epen_distribuidor  \\\n",
       "0                           NaN                NaN                NaN   \n",
       "1                           NaN                NaN                NaN   \n",
       "2                           NaN                NaN                NaN   \n",
       "\n",
       "   epesf_distribuidor  recursos_y_energia_formosa_sa  secheep  spse_santa_cruz  \n",
       "0                 NaN                            NaN      NaN              NaN  \n",
       "1                 NaN                            NaN      NaN              NaN  \n",
       "2                 NaN                            NaN      NaN              NaN  \n",
       "\n",
       "[3 rows x 30 columns]"
      ]
     },
     "execution_count": 3,
     "metadata": {},
     "output_type": "execute_result"
    }
   ],
   "source": [
    "dataset.head(3)"
   ]
  },
  {
   "cell_type": "markdown",
   "metadata": {},
   "source": [
    "## Columnas del Dataset"
   ]
  },
  {
   "cell_type": "markdown",
   "metadata": {},
   "source": [
    "*2. ¿Cuantas columnas tiene el dataset? ¿ qué nombres tienen?.  * <br>\n",
    "*3. ¿Qué tipos de datos tiene las columnas? *"
   ]
  },
  {
   "cell_type": "code",
   "execution_count": 14,
   "metadata": {},
   "outputs": [
    {
     "data": {
      "text/plain": [
       "30"
      ]
     },
     "execution_count": 14,
     "metadata": {},
     "output_type": "execute_result"
    }
   ],
   "source": [
    "len(dataset.columns)"
   ]
  },
  {
   "cell_type": "code",
   "execution_count": 20,
   "metadata": {},
   "outputs": [
    {
     "name": "stdout",
     "output_type": "stream",
     "text": [
      "<class 'pandas.core.frame.DataFrame'>\n",
      "RangeIndex: 214 entries, 0 to 213\n",
      "Data columns (total 30 columns):\n",
      "indice_tiempo                     214 non-null datetime64[ns]\n",
      "demanda_total                     214 non-null float64\n",
      "demanda_residencial               166 non-null float64\n",
      "comercio_e_industria              166 non-null float64\n",
      "grandes_usuarios                  166 non-null float64\n",
      "temperatura_promedio              214 non-null float64\n",
      "potencia_maxima                   214 non-null float64\n",
      "ede_tucuman                       58 non-null float64\n",
      "edelap_sa                         58 non-null float64\n",
      "edenor_distribuidor               58 non-null float64\n",
      "edesal_distribuidor               58 non-null float64\n",
      "edestesa_emp_dist__este           58 non-null float64\n",
      "edesur_distribuidor               58 non-null float64\n",
      "emp_de_energia_de_rio_negro_sa    58 non-null float64\n",
      "emp_dist_energ_atlantica          58 non-null float64\n",
      "emp_de_energia_de_la_rioja_sa     58 non-null float64\n",
      "emp_dist_energia_de_salta         58 non-null float64\n",
      "emp_electric_misiones_sa          58 non-null float64\n",
      "empresa_dis_estero_sa             58 non-null float64\n",
      "empresa_jujenia_de_energia_sa     58 non-null float64\n",
      "energia_de_catamarca_sa           58 non-null float64\n",
      "energia_de_entre_rios_sa          58 non-null float64\n",
      "energia_de_mendoza_sa             58 non-null float64\n",
      "energia_san_juan_sa_exedessa      58 non-null float64\n",
      "epec_distribuidor                 58 non-null float64\n",
      "epen_distribuidor                 58 non-null float64\n",
      "epesf_distribuidor                58 non-null float64\n",
      "recursos_y_energia_formosa_sa     58 non-null float64\n",
      "secheep                           58 non-null float64\n",
      "spse_santa_cruz                   58 non-null float64\n",
      "dtypes: datetime64[ns](1), float64(29)\n",
      "memory usage: 50.2 KB\n"
     ]
    }
   ],
   "source": [
    "dataset.info()"
   ]
  },
  {
   "cell_type": "markdown",
   "metadata": {},
   "source": [
    "##### ¿Cuantas columnas tiene el data set?"
   ]
  },
  {
   "cell_type": "code",
   "execution_count": 13,
   "metadata": {},
   "outputs": [
    {
     "data": {
      "text/plain": [
       "(214, 30)"
      ]
     },
     "execution_count": 13,
     "metadata": {},
     "output_type": "execute_result"
    }
   ],
   "source": [
    "dataset.shape"
   ]
  },
  {
   "cell_type": "markdown",
   "metadata": {},
   "source": [
    "##### ¿Cuales son las dimensiones del Dataset?"
   ]
  },
  {
   "cell_type": "code",
   "execution_count": 5,
   "metadata": {},
   "outputs": [
    {
     "data": {
      "text/plain": [
       "(214, 30)"
      ]
     },
     "execution_count": 5,
     "metadata": {},
     "output_type": "execute_result"
    }
   ],
   "source": [
    "dataset.shape"
   ]
  },
  {
   "cell_type": "markdown",
   "metadata": {},
   "source": [
    "   Tenemos **213 Filas** y **30 Columnas**"
   ]
  },
  {
   "cell_type": "markdown",
   "metadata": {},
   "source": [
    "## Tipos de columnas\n",
    "#### .dtypes \n",
    "    Es un atributo del DataFrame que te da los tipos de datos por cada Columna"
   ]
  },
  {
   "cell_type": "code",
   "execution_count": 21,
   "metadata": {},
   "outputs": [
    {
     "data": {
      "text/plain": [
       "indice_tiempo                     datetime64[ns]\n",
       "demanda_total                            float64\n",
       "demanda_residencial                      float64\n",
       "comercio_e_industria                     float64\n",
       "grandes_usuarios                         float64\n",
       "temperatura_promedio                     float64\n",
       "potencia_maxima                          float64\n",
       "ede_tucuman                              float64\n",
       "edelap_sa                                float64\n",
       "edenor_distribuidor                      float64\n",
       "edesal_distribuidor                      float64\n",
       "edestesa_emp_dist__este                  float64\n",
       "edesur_distribuidor                      float64\n",
       "emp_de_energia_de_rio_negro_sa           float64\n",
       "emp_dist_energ_atlantica                 float64\n",
       "emp_de_energia_de_la_rioja_sa            float64\n",
       "emp_dist_energia_de_salta                float64\n",
       "emp_electric_misiones_sa                 float64\n",
       "empresa_dis_estero_sa                    float64\n",
       "empresa_jujenia_de_energia_sa            float64\n",
       "energia_de_catamarca_sa                  float64\n",
       "energia_de_entre_rios_sa                 float64\n",
       "energia_de_mendoza_sa                    float64\n",
       "energia_san_juan_sa_exedessa             float64\n",
       "epec_distribuidor                        float64\n",
       "epen_distribuidor                        float64\n",
       "epesf_distribuidor                       float64\n",
       "recursos_y_energia_formosa_sa            float64\n",
       "secheep                                  float64\n",
       "spse_santa_cruz                          float64\n",
       "dtype: object"
      ]
     },
     "execution_count": 21,
     "metadata": {},
     "output_type": "execute_result"
    }
   ],
   "source": [
    "dataset.dtypes"
   ]
  },
  {
   "cell_type": "markdown",
   "metadata": {},
   "source": [
    "#### Que tipos de datos tiene Pandas\n",
    "* **object**: Texto\n",
    "* **float**: Numerico con decimales\n",
    "* **int**: Numerico entero\n",
    "* **bool**: True o False, Valores binarios.\n",
    "* **category**: Valores categoricos\n",
    "* **datetime ó timedelta**: Son Datos con fechas o tiempos"
   ]
  },
  {
   "cell_type": "markdown",
   "metadata": {},
   "source": [
    "## Subset de los datos generales y la compañía Epec"
   ]
  },
  {
   "cell_type": "markdown",
   "metadata": {},
   "source": [
    "* 4.Obtener sólo las columnas ['indice_tiempo', 'demanda_residencial', 'comercio_e_industria', 'grandes_usuarios', 'temperatura_promedio', 'epec_distribuidor'] *"
   ]
  },
  {
   "cell_type": "code",
   "execution_count": 28,
   "metadata": {
    "scrolled": true
   },
   "outputs": [
    {
     "data": {
      "text/html": [
       "<div>\n",
       "<style scoped>\n",
       "    .dataframe tbody tr th:only-of-type {\n",
       "        vertical-align: middle;\n",
       "    }\n",
       "\n",
       "    .dataframe tbody tr th {\n",
       "        vertical-align: top;\n",
       "    }\n",
       "\n",
       "    .dataframe thead th {\n",
       "        text-align: right;\n",
       "    }\n",
       "</style>\n",
       "<table border=\"1\" class=\"dataframe\">\n",
       "  <thead>\n",
       "    <tr style=\"text-align: right;\">\n",
       "      <th></th>\n",
       "      <th>indice_tiempo</th>\n",
       "      <th>demanda_residencial</th>\n",
       "      <th>comercio_e_industria</th>\n",
       "      <th>grandes_usuarios</th>\n",
       "      <th>temperatura_promedio</th>\n",
       "      <th>epec_distribuidor</th>\n",
       "    </tr>\n",
       "  </thead>\n",
       "  <tbody>\n",
       "    <tr>\n",
       "      <th>0</th>\n",
       "      <td>2001-01-01</td>\n",
       "      <td>NaN</td>\n",
       "      <td>NaN</td>\n",
       "      <td>NaN</td>\n",
       "      <td>25.432</td>\n",
       "      <td>NaN</td>\n",
       "    </tr>\n",
       "    <tr>\n",
       "      <th>1</th>\n",
       "      <td>2001-02-01</td>\n",
       "      <td>NaN</td>\n",
       "      <td>NaN</td>\n",
       "      <td>NaN</td>\n",
       "      <td>25.596</td>\n",
       "      <td>NaN</td>\n",
       "    </tr>\n",
       "  </tbody>\n",
       "</table>\n",
       "</div>"
      ],
      "text/plain": [
       "  indice_tiempo  demanda_residencial  comercio_e_industria  grandes_usuarios  \\\n",
       "0    2001-01-01                  NaN                   NaN               NaN   \n",
       "1    2001-02-01                  NaN                   NaN               NaN   \n",
       "\n",
       "   temperatura_promedio  epec_distribuidor  \n",
       "0                25.432                NaN  \n",
       "1                25.596                NaN  "
      ]
     },
     "execution_count": 28,
     "metadata": {},
     "output_type": "execute_result"
    }
   ],
   "source": [
    "subset = dataset[['indice_tiempo','demanda_residencial','comercio_e_industria', 'grandes_usuarios', 'temperatura_promedio', 'epec_distribuidor']]\n",
    "subset.head(2)"
   ]
  },
  {
   "cell_type": "markdown",
   "metadata": {},
   "source": [
    "### Podemos buscar solo los datos que sean del 2017 y 2018\n",
    "###### Con la funcion de Pandas .loc"
   ]
  },
  {
   "cell_type": "markdown",
   "metadata": {},
   "source": [
    "*5. A partir de “indice_tiempo”, crear Columna  “Anio” (Tips str.slice() )*"
   ]
  },
  {
   "cell_type": "code",
   "execution_count": 38,
   "metadata": {},
   "outputs": [
    {
     "data": {
      "text/html": [
       "<div>\n",
       "<style scoped>\n",
       "    .dataframe tbody tr th:only-of-type {\n",
       "        vertical-align: middle;\n",
       "    }\n",
       "\n",
       "    .dataframe tbody tr th {\n",
       "        vertical-align: top;\n",
       "    }\n",
       "\n",
       "    .dataframe thead th {\n",
       "        text-align: right;\n",
       "    }\n",
       "</style>\n",
       "<table border=\"1\" class=\"dataframe\">\n",
       "  <thead>\n",
       "    <tr style=\"text-align: right;\">\n",
       "      <th></th>\n",
       "      <th>indice_tiempo</th>\n",
       "      <th>demanda_residencial</th>\n",
       "      <th>comercio_e_industria</th>\n",
       "      <th>grandes_usuarios</th>\n",
       "      <th>temperatura_promedio</th>\n",
       "      <th>epec_distribuidor</th>\n",
       "      <th>Anio</th>\n",
       "    </tr>\n",
       "  </thead>\n",
       "  <tbody>\n",
       "    <tr>\n",
       "      <th>0</th>\n",
       "      <td>2001-01-01</td>\n",
       "      <td>NaN</td>\n",
       "      <td>NaN</td>\n",
       "      <td>NaN</td>\n",
       "      <td>25.432</td>\n",
       "      <td>NaN</td>\n",
       "      <td>2001</td>\n",
       "    </tr>\n",
       "    <tr>\n",
       "      <th>1</th>\n",
       "      <td>2001-02-01</td>\n",
       "      <td>NaN</td>\n",
       "      <td>NaN</td>\n",
       "      <td>NaN</td>\n",
       "      <td>25.596</td>\n",
       "      <td>NaN</td>\n",
       "      <td>2001</td>\n",
       "    </tr>\n",
       "  </tbody>\n",
       "</table>\n",
       "</div>"
      ],
      "text/plain": [
       "  indice_tiempo  demanda_residencial  comercio_e_industria  grandes_usuarios  \\\n",
       "0    2001-01-01                  NaN                   NaN               NaN   \n",
       "1    2001-02-01                  NaN                   NaN               NaN   \n",
       "\n",
       "   temperatura_promedio  epec_distribuidor  Anio  \n",
       "0                25.432                NaN  2001  \n",
       "1                25.596                NaN  2001  "
      ]
     },
     "execution_count": 38,
     "metadata": {},
     "output_type": "execute_result"
    }
   ],
   "source": [
    "subset['Anio'] = dataset['indice_tiempo'].str.slice(stop=4) #probando = prob (0,1,2,3) \n",
    "subset.head(2)"
   ]
  },
  {
   "cell_type": "markdown",
   "metadata": {},
   "source": [
    "*7. Mostrar sólo los datos de 2017 y 2018 *"
   ]
  },
  {
   "cell_type": "code",
   "execution_count": 41,
   "metadata": {
    "scrolled": true
   },
   "outputs": [
    {
     "data": {
      "text/plain": [
       "0    False\n",
       "1    False\n",
       "Name: Anio, dtype: bool"
      ]
     },
     "execution_count": 41,
     "metadata": {},
     "output_type": "execute_result"
    }
   ],
   "source": [
    "filter_1 = subset['Anio'].isin(['2017', '2018'])\n",
    "\n",
    "filter_1.head(2)"
   ]
  },
  {
   "cell_type": "code",
   "execution_count": 52,
   "metadata": {},
   "outputs": [
    {
     "data": {
      "text/html": [
       "<div>\n",
       "<style scoped>\n",
       "    .dataframe tbody tr th:only-of-type {\n",
       "        vertical-align: middle;\n",
       "    }\n",
       "\n",
       "    .dataframe tbody tr th {\n",
       "        vertical-align: top;\n",
       "    }\n",
       "\n",
       "    .dataframe thead th {\n",
       "        text-align: right;\n",
       "    }\n",
       "</style>\n",
       "<table border=\"1\" class=\"dataframe\">\n",
       "  <thead>\n",
       "    <tr style=\"text-align: right;\">\n",
       "      <th></th>\n",
       "      <th>indice_tiempo</th>\n",
       "      <th>demanda_residencial</th>\n",
       "      <th>comercio_e_industria</th>\n",
       "      <th>grandes_usuarios</th>\n",
       "      <th>temperatura_promedio</th>\n",
       "      <th>epec_distribuidor</th>\n",
       "      <th>Anio</th>\n",
       "    </tr>\n",
       "  </thead>\n",
       "  <tbody>\n",
       "    <tr>\n",
       "      <th>192</th>\n",
       "      <td>2017-01-01</td>\n",
       "      <td>5681.816626</td>\n",
       "      <td>4849.049020</td>\n",
       "      <td>1994.0</td>\n",
       "      <td>25.7</td>\n",
       "      <td>864.972105</td>\n",
       "      <td>2017</td>\n",
       "    </tr>\n",
       "    <tr>\n",
       "      <th>193</th>\n",
       "      <td>2017-02-01</td>\n",
       "      <td>4618.226100</td>\n",
       "      <td>4551.680399</td>\n",
       "      <td>1905.0</td>\n",
       "      <td>25.4</td>\n",
       "      <td>750.517639</td>\n",
       "      <td>2017</td>\n",
       "    </tr>\n",
       "    <tr>\n",
       "      <th>194</th>\n",
       "      <td>2017-03-01</td>\n",
       "      <td>4470.715122</td>\n",
       "      <td>4514.516433</td>\n",
       "      <td>2137.0</td>\n",
       "      <td>22.4</td>\n",
       "      <td>769.956276</td>\n",
       "      <td>2017</td>\n",
       "    </tr>\n",
       "    <tr>\n",
       "      <th>195</th>\n",
       "      <td>2017-04-01</td>\n",
       "      <td>3754.330119</td>\n",
       "      <td>3986.428466</td>\n",
       "      <td>2053.0</td>\n",
       "      <td>18.9</td>\n",
       "      <td>671.747233</td>\n",
       "      <td>2017</td>\n",
       "    </tr>\n",
       "  </tbody>\n",
       "</table>\n",
       "</div>"
      ],
      "text/plain": [
       "    indice_tiempo  demanda_residencial  comercio_e_industria  \\\n",
       "192    2017-01-01          5681.816626           4849.049020   \n",
       "193    2017-02-01          4618.226100           4551.680399   \n",
       "194    2017-03-01          4470.715122           4514.516433   \n",
       "195    2017-04-01          3754.330119           3986.428466   \n",
       "\n",
       "     grandes_usuarios  temperatura_promedio  epec_distribuidor  Anio  \n",
       "192            1994.0                  25.7         864.972105  2017  \n",
       "193            1905.0                  25.4         750.517639  2017  \n",
       "194            2137.0                  22.4         769.956276  2017  \n",
       "195            2053.0                  18.9         671.747233  2017  "
      ]
     },
     "execution_count": 52,
     "metadata": {},
     "output_type": "execute_result"
    }
   ],
   "source": [
    "subset2 = subset[filter_1]\n",
    "subset2.head(4)"
   ]
  },
  {
   "cell_type": "markdown",
   "metadata": {},
   "source": [
    "##### Cuál es el promedio de la demanda total para el 2018?"
   ]
  },
  {
   "cell_type": "markdown",
   "metadata": {},
   "source": [
    "*8. Obtener el promedio de la demanda_residencial (Tip:  mean() )*"
   ]
  },
  {
   "cell_type": "code",
   "execution_count": 56,
   "metadata": {},
   "outputs": [
    {
     "name": "stdout",
     "output_type": "stream",
     "text": [
      "4734.14\n"
     ]
    }
   ],
   "source": [
    "promedio = subset2.demanda_residencial.mean()\n",
    "\n",
    "print(\"{:.2f}\".format(promedio))"
   ]
  },
  {
   "cell_type": "markdown",
   "metadata": {},
   "source": [
    "**Contar los datos null en cada columna**"
   ]
  },
  {
   "cell_type": "markdown",
   "metadata": {},
   "source": [
    "*9. Contar los datos null en cada columna (Tip: isnull() + sum()*"
   ]
  },
  {
   "cell_type": "code",
   "execution_count": 57,
   "metadata": {},
   "outputs": [
    {
     "data": {
      "text/plain": [
       "indice_tiempo             0\n",
       "demanda_residencial      48\n",
       "comercio_e_industria     48\n",
       "grandes_usuarios         48\n",
       "temperatura_promedio      0\n",
       "epec_distribuidor       156\n",
       "Anio                      0\n",
       "dtype: int64"
      ]
     },
     "execution_count": 57,
     "metadata": {},
     "output_type": "execute_result"
    }
   ],
   "source": [
    "subset.isnull().sum()"
   ]
  },
  {
   "cell_type": "markdown",
   "metadata": {},
   "source": [
    "*10. Completar los datos nulos de demanda_residencial con el promedio *"
   ]
  },
  {
   "cell_type": "code",
   "execution_count": 66,
   "metadata": {},
   "outputs": [
    {
     "data": {
      "text/plain": [
       "False"
      ]
     },
     "execution_count": 66,
     "metadata": {},
     "output_type": "execute_result"
    }
   ],
   "source": [
    "subset.demanda_residencial.fillna(subset.demanda_residencial.mean(), inplace=True)\n",
    "\n",
    "subset.demanda_residencial.isnull().values.any()"
   ]
  },
  {
   "cell_type": "markdown",
   "metadata": {},
   "source": [
    "*11. Por año, cuáles fueron los 3 meses que mas demanda_residencial hubo luego del 2015? *"
   ]
  },
  {
   "cell_type": "code",
   "execution_count": 70,
   "metadata": {},
   "outputs": [
    {
     "data": {
      "text/plain": [
       "210    6166.950992\n",
       "192    5681.816626\n",
       "180    5651.444906\n",
       "Name: demanda_residencial, dtype: float64"
      ]
     },
     "execution_count": 70,
     "metadata": {},
     "output_type": "execute_result"
    }
   ],
   "source": [
    "subset.demanda_residencial.sort_values(ascending=False).head(3)"
   ]
  },
  {
   "cell_type": "code",
   "execution_count": 77,
   "metadata": {},
   "outputs": [
    {
     "data": {
      "text/html": [
       "<div>\n",
       "<style scoped>\n",
       "    .dataframe tbody tr th:only-of-type {\n",
       "        vertical-align: middle;\n",
       "    }\n",
       "\n",
       "    .dataframe tbody tr th {\n",
       "        vertical-align: top;\n",
       "    }\n",
       "\n",
       "    .dataframe thead th {\n",
       "        text-align: right;\n",
       "    }\n",
       "</style>\n",
       "<table border=\"1\" class=\"dataframe\">\n",
       "  <thead>\n",
       "    <tr style=\"text-align: right;\">\n",
       "      <th></th>\n",
       "      <th>indice_tiempo</th>\n",
       "      <th>demanda_residencial</th>\n",
       "    </tr>\n",
       "  </thead>\n",
       "  <tbody>\n",
       "    <tr>\n",
       "      <th>210</th>\n",
       "      <td>2018-07-01</td>\n",
       "      <td>6166.950992</td>\n",
       "    </tr>\n",
       "    <tr>\n",
       "      <th>192</th>\n",
       "      <td>2017-01-01</td>\n",
       "      <td>5681.816626</td>\n",
       "    </tr>\n",
       "    <tr>\n",
       "      <th>180</th>\n",
       "      <td>2016-01-01</td>\n",
       "      <td>5651.444906</td>\n",
       "    </tr>\n",
       "    <tr>\n",
       "      <th>185</th>\n",
       "      <td>2016-06-01</td>\n",
       "      <td>5634.190447</td>\n",
       "    </tr>\n",
       "    <tr>\n",
       "      <th>209</th>\n",
       "      <td>2018-06-01</td>\n",
       "      <td>5587.021997</td>\n",
       "    </tr>\n",
       "    <tr>\n",
       "      <th>198</th>\n",
       "      <td>2017-07-01</td>\n",
       "      <td>5460.615925</td>\n",
       "    </tr>\n",
       "  </tbody>\n",
       "</table>\n",
       "</div>"
      ],
      "text/plain": [
       "    indice_tiempo  demanda_residencial\n",
       "210    2018-07-01          6166.950992\n",
       "192    2017-01-01          5681.816626\n",
       "180    2016-01-01          5651.444906\n",
       "185    2016-06-01          5634.190447\n",
       "209    2018-06-01          5587.021997\n",
       "198    2017-07-01          5460.615925"
      ]
     },
     "execution_count": 77,
     "metadata": {},
     "output_type": "execute_result"
    }
   ],
   "source": [
    "subset.loc[subset.Anio > '2015'].sort_values('demanda_residencial', ascending=False).groupby(\"Anio\")['indice_tiempo', 'demanda_residencial'].head(2)"
   ]
  },
  {
   "cell_type": "markdown",
   "metadata": {},
   "source": [
    "¿cuál es la diferencia entre data set y data frame? ¿Qué significan los dos corchetes? ¿Por qué no toma el indice tiempo como datetime?  \n",
    "Como se utiliza el slice, para crear una columna \"anio\" dentro de otra columna \"indice_tiempo.\n"
   ]
  },
  {
   "cell_type": "code",
   "execution_count": 78,
   "metadata": {},
   "outputs": [
    {
     "data": {
      "text/plain": [
       "8"
      ]
     },
     "execution_count": 78,
     "metadata": {},
     "output_type": "execute_result"
    }
   ],
   "source": [
    "list = [1,2,3,4,5,6,7,8]\n",
    "\n",
    "len(list)\n"
   ]
  },
  {
   "cell_type": "code",
   "execution_count": 81,
   "metadata": {},
   "outputs": [
    {
     "data": {
      "text/html": [
       "<div>\n",
       "<style scoped>\n",
       "    .dataframe tbody tr th:only-of-type {\n",
       "        vertical-align: middle;\n",
       "    }\n",
       "\n",
       "    .dataframe tbody tr th {\n",
       "        vertical-align: top;\n",
       "    }\n",
       "\n",
       "    .dataframe thead th {\n",
       "        text-align: right;\n",
       "    }\n",
       "</style>\n",
       "<table border=\"1\" class=\"dataframe\">\n",
       "  <thead>\n",
       "    <tr style=\"text-align: right;\">\n",
       "      <th></th>\n",
       "      <th>indice_tiempo</th>\n",
       "      <th>demanda_residencial</th>\n",
       "      <th>comercio_e_industria</th>\n",
       "      <th>grandes_usuarios</th>\n",
       "      <th>temperatura_promedio</th>\n",
       "      <th>epec_distribuidor</th>\n",
       "    </tr>\n",
       "  </thead>\n",
       "  <tbody>\n",
       "    <tr>\n",
       "      <th>0</th>\n",
       "      <td>2001-01-01</td>\n",
       "      <td>NaN</td>\n",
       "      <td>NaN</td>\n",
       "      <td>NaN</td>\n",
       "      <td>25.432</td>\n",
       "      <td>NaN</td>\n",
       "    </tr>\n",
       "    <tr>\n",
       "      <th>1</th>\n",
       "      <td>2001-02-01</td>\n",
       "      <td>NaN</td>\n",
       "      <td>NaN</td>\n",
       "      <td>NaN</td>\n",
       "      <td>25.596</td>\n",
       "      <td>NaN</td>\n",
       "    </tr>\n",
       "    <tr>\n",
       "      <th>2</th>\n",
       "      <td>2001-03-01</td>\n",
       "      <td>NaN</td>\n",
       "      <td>NaN</td>\n",
       "      <td>NaN</td>\n",
       "      <td>22.852</td>\n",
       "      <td>NaN</td>\n",
       "    </tr>\n",
       "    <tr>\n",
       "      <th>3</th>\n",
       "      <td>2001-04-01</td>\n",
       "      <td>NaN</td>\n",
       "      <td>NaN</td>\n",
       "      <td>NaN</td>\n",
       "      <td>18.317</td>\n",
       "      <td>NaN</td>\n",
       "    </tr>\n",
       "  </tbody>\n",
       "</table>\n",
       "</div>"
      ],
      "text/plain": [
       "  indice_tiempo  demanda_residencial  comercio_e_industria  grandes_usuarios  \\\n",
       "0    2001-01-01                  NaN                   NaN               NaN   \n",
       "1    2001-02-01                  NaN                   NaN               NaN   \n",
       "2    2001-03-01                  NaN                   NaN               NaN   \n",
       "3    2001-04-01                  NaN                   NaN               NaN   \n",
       "\n",
       "   temperatura_promedio  epec_distribuidor  \n",
       "0                25.432                NaN  \n",
       "1                25.596                NaN  \n",
       "2                22.852                NaN  \n",
       "3                18.317                NaN  "
      ]
     },
     "execution_count": 81,
     "metadata": {},
     "output_type": "execute_result"
    }
   ],
   "source": [
    "list = ['indice_tiempo','demanda_residencial','comercio_e_industria', 'grandes_usuarios', 'temperatura_promedio', 'epec_distribuidor']\n",
    "\n",
    "subset3 = dataset[list]\n",
    "\n",
    "subset3.head(4)"
   ]
  },
  {
   "cell_type": "code",
   "execution_count": null,
   "metadata": {},
   "outputs": [],
   "source": [
    "loc para seleccionar filas y columnas al mismo tiempo"
   ]
  }
 ],
 "metadata": {
  "kernelspec": {
   "display_name": "Python 3",
   "language": "python",
   "name": "python3"
  },
  "language_info": {
   "codemirror_mode": {
    "name": "ipython",
    "version": 3
   },
   "file_extension": ".py",
   "mimetype": "text/x-python",
   "name": "python",
   "nbconvert_exporter": "python",
   "pygments_lexer": "ipython3",
   "version": "3.6.8"
  }
 },
 "nbformat": 4,
 "nbformat_minor": 2
}
