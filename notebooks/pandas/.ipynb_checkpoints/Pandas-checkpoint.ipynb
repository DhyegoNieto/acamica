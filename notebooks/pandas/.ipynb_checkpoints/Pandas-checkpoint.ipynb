{
 "cells": [
  {
   "cell_type": "code",
   "execution_count": 10,
   "metadata": {
    "collapsed": true
   },
   "outputs": [],
   "source": [
    "import pandas as pd\n",
    "import numpy as np"
   ]
  },
  {
   "cell_type": "markdown",
   "metadata": {},
   "source": [
    "<font size='5'>Creating FataFrame from a Dictionary</font>"
   ]
  },
  {
   "cell_type": "code",
   "execution_count": 3,
   "metadata": {},
   "outputs": [
    {
     "name": "stdout",
     "output_type": "stream",
     "text": [
      "            city  signups  visitors    weekday\n",
      "0         Austin        5       139     Sunday\n",
      "1         Dallas        8       209     Monday\n",
      "2  San Francisco       19        89    Tuesday\n",
      "3          Miami        3       120  Wednesday\n",
      "4         Boston       20        34   Thursday\n",
      "5        Chicago       32       102     Friday\n",
      "6       New York       65        77   Saturday\n"
     ]
    }
   ],
   "source": [
    "# Creating a DataFrame from a Dictionary\n",
    "data_dict = {\n",
    "                'weekday': ['Sunday', 'Monday', 'Tuesday', 'Wednesday', 'Thursday', 'Friday', 'Saturday'],\n",
    "                 'city': ['Austin', 'Dallas', 'San Francisco', 'Miami', 'Boston', 'Chicago', 'New York'],\n",
    "                'visitors': [139, 209, 89, 120, 34, 102, 77],\n",
    "                'signups': [5, 8, 19, 3, 20, 32, 65]\n",
    "             }\n",
    "\n",
    "users = pd.DataFrame(data_dict)\n",
    "\n",
    "print(users)"
   ]
  },
  {
   "cell_type": "markdown",
   "metadata": {},
   "source": [
    "<Font size='5'>Creating a DataFrame from a List of List (Dictionary) </font>\n"
   ]
  },
  {
   "cell_type": "code",
   "execution_count": 5,
   "metadata": {},
   "outputs": [
    {
     "name": "stdout",
     "output_type": "stream",
     "text": [
      "            city  signups  visitors    weekday\n",
      "0         Austin        5       139     Sunday\n",
      "1         Dallas        8       209     Monday\n",
      "2  San Francisco       19        89    Tuesday\n",
      "3          Miami        3       120  Wednesday\n",
      "4         Boston       20        34   Thursday\n",
      "5        Chicago       32       102     Friday\n",
      "6       New York       65        77   Saturday\n"
     ]
    }
   ],
   "source": [
    "cities = ['Austin', 'Dallas', 'San Francisco', 'Miami', 'Boston', 'Chicago', 'New York']\n",
    "signups = [5, 8, 19, 3, 20, 32, 65]\n",
    "visitors = [139, 209, 89, 120, 34, 102, 77]\n",
    "days = ['Sunday', 'Monday', 'Tuesday', 'Wednesday', 'Thursday', 'Friday', 'Saturday']\n",
    "# column labels and cols\n",
    "labels = ['city', 'signups', 'visitors', 'weekday']\n",
    "list_cols =[cities, signups, visitors, days]\n",
    "# Using python list and zip functions\n",
    "zipped = list(zip(labels, list_cols))\n",
    "#creating a dictionary\n",
    "data = dict(zipped)\n",
    "# creating the DataFrame\n",
    "users = pd.DataFrame(data)\n",
    "print(users)"
   ]
  },
  {
   "cell_type": "markdown",
   "metadata": {},
   "source": [
    "<font size='5'>Broadcasting</font>\n",
    "#### Adding a new column using broadcasting saves times and efforts creating list of dictionaries"
   ]
  },
  {
   "cell_type": "code",
   "execution_count": 6,
   "metadata": {},
   "outputs": [
    {
     "name": "stdout",
     "output_type": "stream",
     "text": [
      "            city  signups  visitors    weekday  fees\n",
      "0         Austin        5       139     Sunday     0\n",
      "1         Dallas        8       209     Monday     0\n",
      "2  San Francisco       19        89    Tuesday     0\n",
      "3          Miami        3       120  Wednesday     0\n",
      "4         Boston       20        34   Thursday     0\n",
      "5        Chicago       32       102     Friday     0\n",
      "6       New York       65        77   Saturday     0\n"
     ]
    }
   ],
   "source": [
    "users['fees'] = 0\n",
    "print(users)"
   ]
  },
  {
   "cell_type": "markdown",
   "metadata": {},
   "source": [
    "<font size='5'>Broadcasting with Dictionaries</font>\n",
    "#### The column 'sex' will be broadcasted to the whole DataSet"
   ]
  },
  {
   "cell_type": "code",
   "execution_count": 7,
   "metadata": {},
   "outputs": [
    {
     "name": "stdout",
     "output_type": "stream",
     "text": [
      "   height sex\n",
      "0    59.0   M\n",
      "1    65.2   M\n",
      "2    62.9   M\n",
      "3    65.4   M\n",
      "4    63.7   M\n",
      "5    57.4   M\n",
      "6    64.1   M\n"
     ]
    }
   ],
   "source": [
    "heights = [59.0, 65.2, 62.9, 65.4, 63.7, 57.4, 64.1]\n",
    "data = {'height':heights, 'sex': 'M'}\n",
    "\n",
    "results = pd.DataFrame(data)\n",
    "print(results)"
   ]
  },
  {
   "cell_type": "markdown",
   "metadata": {},
   "source": [
    "<font size='5'>Chaging the column and row indexes on a DataSet</font> "
   ]
  },
  {
   "cell_type": "code",
   "execution_count": 8,
   "metadata": {},
   "outputs": [
    {
     "name": "stdout",
     "output_type": "stream",
     "text": [
      "   height (inches) sex\n",
      "A             59.0   M\n",
      "B             65.2   M\n",
      "C             62.9   M\n",
      "D             65.4   M\n",
      "E             63.7   M\n",
      "F             57.4   M\n",
      "G             64.1   M\n"
     ]
    }
   ],
   "source": [
    "results.columns = ['height (inches)', 'sex']\n",
    "results.index = ['A', 'B', 'C', 'D', 'E', 'F', 'G']\n",
    "print(results)"
   ]
  },
  {
   "cell_type": "markdown",
   "metadata": {},
   "source": [
    "<font size='5'>iloc vs loc</font>\n",
    "- #### loc gets rows (or columns) with particular labels from the index.\n",
    "- #### iloc gets rows (or columns) at particular positions in the index (so it only takes integers)."
   ]
  },
  {
   "cell_type": "code",
   "execution_count": 11,
   "metadata": {},
   "outputs": [
    {
     "data": {
      "text/plain": [
       "49   NaN\n",
       "48   NaN\n",
       "47   NaN\n",
       "46   NaN\n",
       "45   NaN\n",
       "1    NaN\n",
       "2    NaN\n",
       "3    NaN\n",
       "4    NaN\n",
       "5    NaN\n",
       "dtype: float64"
      ]
     },
     "execution_count": 11,
     "metadata": {},
     "output_type": "execute_result"
    }
   ],
   "source": [
    "my_serie = pd.Series(np.nan, index=[49,48,47,46,45,1,2,3,4,5])\n",
    "my_serie"
   ]
  },
  {
   "cell_type": "code",
   "execution_count": 12,
   "metadata": {},
   "outputs": [
    {
     "name": "stdout",
     "output_type": "stream",
     "text": [
      "49   NaN\n",
      "48   NaN\n",
      "47   NaN\n",
      "dtype: float64\n"
     ]
    }
   ],
   "source": [
    "# iloc returns the firts 3 rows since is index based \n",
    "iloc = my_serie.iloc[:3]\n",
    "print(iloc)"
   ]
  },
  {
   "cell_type": "code",
   "execution_count": 13,
   "metadata": {},
   "outputs": [
    {
     "name": "stdout",
     "output_type": "stream",
     "text": [
      "49   NaN\n",
      "48   NaN\n",
      "47   NaN\n",
      "46   NaN\n",
      "45   NaN\n",
      "1    NaN\n",
      "2    NaN\n",
      "3    NaN\n",
      "dtype: float64\n"
     ]
    }
   ],
   "source": [
    "# loc returns all the entries from the label 3, it treats '3' as a label\n",
    "loc = my_serie.loc[:3]\n",
    "print(loc)"
   ]
  },
  {
   "cell_type": "markdown",
   "metadata": {},
   "source": []
  }
 ],
 "metadata": {
  "kernelspec": {
   "display_name": "Python 3",
   "language": "python",
   "name": "python3"
  },
  "language_info": {
   "codemirror_mode": {
    "name": "ipython",
    "version": 3
   },
   "file_extension": ".py",
   "mimetype": "text/x-python",
   "name": "python",
   "nbconvert_exporter": "python",
   "pygments_lexer": "ipython3",
   "version": "3.6.8"
  }
 },
 "nbformat": 4,
 "nbformat_minor": 2
}
