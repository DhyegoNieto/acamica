{
 "cells": [
  {
   "cell_type": "code",
   "execution_count": 2,
   "metadata": {
    "collapsed": true
   },
   "outputs": [],
   "source": [
    "import numpy as np\n",
    "import pandas as pd\n",
    "import matplotlib.pyplot as plt\n",
    "import seaborn as sns\n",
    "from sklearn import preprocessing\n",
    "from sklearn import impute"
   ]
  },
  {
   "cell_type": "code",
   "execution_count": 3,
   "metadata": {
    "collapsed": false
   },
   "outputs": [],
   "source": [
    "# importo el dataset de properati\n",
    "properati = pd.read_csv('datos_properati.csv', delimiter=',', parse_dates = ['created_on'])"
   ]
  },
  {
   "cell_type": "code",
   "execution_count": 41,
   "metadata": {
    "collapsed": false
   },
   "outputs": [],
   "source": [
    "# queremos saber que columnas tienen NaN y cuantos\n",
    "properati.isnull().sum()"
   ]
  },
  {
   "cell_type": "markdown",
   "metadata": {},
   "source": [
    "# Scikit-Learn, SimpleImputer\n",
    "En general no queremos eliminar las instancias que posean NaNs en algun atributo / feature. Con imputer por ejemplo podemos reemplazar los campos con NaN por un valor determinado"
   ]
  },
  {
   "cell_type": "code",
   "execution_count": 40,
   "metadata": {},
   "outputs": [],
   "source": [
    "# Imputer sirve para reemplazar los valores NaN con el valor de la mediana de dicho atributo\n",
    "# Opciones de Aplicación: 'mean', 'median', 'most_frequent', 'constant'\n",
    "imp = preprocessing.Imputer(missing_values='NaN', strategy='median', axis=0)"
   ]
  },
  {
   "cell_type": "code",
   "execution_count": 6,
   "metadata": {
    "collapsed": true
   },
   "outputs": [],
   "source": [
    "# Función actual de Sklearn: SimpleImputer\n",
    "# Opciones de Aplicación: 'mean', 'median', 'most_frequent', 'constant' \n",
    "imp = impute.SimpleImputer(missing_values= np.nan, strategy='median', fill_value=None) "
   ]
  },
  {
   "cell_type": "code",
   "execution_count": 39,
   "metadata": {},
   "outputs": [],
   "source": [
    "# Cuál es la mediana de esa columna?\n",
    "properati['price_aprox_usd'].median()"
   ]
  },
  {
   "cell_type": "code",
   "execution_count": 8,
   "metadata": {
    "collapsed": false
   },
   "outputs": [],
   "source": [
    "# aplicamos el valor de la mediana con la tecnica de Imputer en la columna \"price_aprox_usd\" y guardamos SOLO ESA COLUMNA\n",
    "# en el elemento \"properati_price_imp\"\n",
    "properati_price_imp = imp.fit_transform(properati[['price_aprox_usd']])"
   ]
  },
  {
   "cell_type": "code",
   "execution_count": null,
   "metadata": {
    "collapsed": false
   },
   "outputs": [],
   "source": [
    "np.shape(properati[['price_aprox_usd']])"
   ]
  },
  {
   "cell_type": "code",
   "execution_count": 38,
   "metadata": {
    "collapsed": false
   },
   "outputs": [],
   "source": [
    "# luego revisamos si efectivamente sacamos todos los NaNs y es correcto\n",
    "np.isnan(properati_price_imp).any()"
   ]
  },
  {
   "cell_type": "code",
   "execution_count": 11,
   "metadata": {
    "collapsed": true
   },
   "outputs": [],
   "source": [
    "# ahora reemplazamos nuestra columna con la nueva que tiene los valores reemplazados por la mediana\n",
    "properati['price_aprox_usd'] = properati_price_imp"
   ]
  },
  {
   "cell_type": "code",
   "execution_count": 37,
   "metadata": {
    "collapsed": false
   },
   "outputs": [],
   "source": [
    "# nuevamente, observamos que esta columna ahora no tiene ningun valor nulo\n",
    "properati['price_aprox_usd'].isnull().sum()"
   ]
  },
  {
   "cell_type": "code",
   "execution_count": 36,
   "metadata": {
    "collapsed": false
   },
   "outputs": [],
   "source": [
    "# por otro lado la mediana no ha sido afectada\n",
    "properati['price_aprox_usd'].median()"
   ]
  },
  {
   "cell_type": "code",
   "execution_count": 14,
   "metadata": {},
   "outputs": [],
   "source": [
    "# Si tengo claro como quiero imputar, puedo hacerlo de varias columnas a la vez\n",
    "properati_2 = imp.fit_transform(properati.iloc[:,7:14])"
   ]
  },
  {
   "cell_type": "markdown",
   "metadata": {},
   "source": [
    "# Scikit-Learn: LabelEncoder\n",
    "Existen casos donde si queremos transformar nuestras variables categoricas en numericas sin pasar por variables dummies, con LabelEncoder podemos realizar dicha tarea."
   ]
  },
  {
   "cell_type": "code",
   "execution_count": 35,
   "metadata": {
    "collapsed": false
   },
   "outputs": [],
   "source": [
    "# Vemos los valores que toma la variable\n",
    "properati.property_type.unique()"
   ]
  },
  {
   "cell_type": "code",
   "execution_count": 16,
   "metadata": {
    "collapsed": true
   },
   "outputs": [],
   "source": [
    "# Label Encoder transforma mis variables categoricas en numéricas.\n",
    "le_proptype = preprocessing.LabelEncoder()"
   ]
  },
  {
   "cell_type": "code",
   "execution_count": 34,
   "metadata": {
    "collapsed": false
   },
   "outputs": [],
   "source": [
    "# \"aprendimos\" un array numerico con 4 valores posibles, uno por cada categoria\n",
    "le_proptype.fit_transform(properati['property_type'])"
   ]
  },
  {
   "cell_type": "code",
   "execution_count": 18,
   "metadata": {
    "collapsed": true
   },
   "outputs": [],
   "source": [
    "property_type_le = le_proptype.fit_transform(properati['property_type'])"
   ]
  },
  {
   "cell_type": "code",
   "execution_count": null,
   "metadata": {
    "collapsed": false
   },
   "outputs": [],
   "source": [
    "le_proptype.classes_"
   ]
  },
  {
   "cell_type": "code",
   "execution_count": 20,
   "metadata": {
    "collapsed": true
   },
   "outputs": [],
   "source": [
    "# ahora la columna property_type del dataset properati tiene categorias numericas\n",
    "properati['property_type_le'] = property_type_le"
   ]
  },
  {
   "cell_type": "markdown",
   "metadata": {},
   "source": [
    "# Scikit-Learn: One Hot Encoder"
   ]
  },
  {
   "cell_type": "code",
   "execution_count": 21,
   "metadata": {
    "collapsed": true
   },
   "outputs": [],
   "source": [
    "# uso one hot encoder para transformar mis categorias numericas en categorias binarias\n",
    "ohenc = preprocessing.OneHotEncoder(sparse = False)"
   ]
  },
  {
   "cell_type": "code",
   "execution_count": null,
   "metadata": {
    "collapsed": false
   },
   "outputs": [],
   "source": [
    "np.shape(property_type_le)[0]"
   ]
  },
  {
   "cell_type": "code",
   "execution_count": 23,
   "metadata": {
    "collapsed": true
   },
   "outputs": [],
   "source": [
    "# np.reshape sirve para cambiar las dimensiones de un array de numpy\n",
    "property_type_le = np.reshape(property_type_le, (np.shape(property_type_le)[0],1))"
   ]
  },
  {
   "cell_type": "code",
   "execution_count": null,
   "metadata": {
    "collapsed": false
   },
   "outputs": [],
   "source": [
    "np.shape(property_type_le)"
   ]
  },
  {
   "cell_type": "code",
   "execution_count": null,
   "metadata": {
    "collapsed": false
   },
   "outputs": [],
   "source": [
    "property_type_le"
   ]
  },
  {
   "cell_type": "code",
   "execution_count": 33,
   "metadata": {
    "collapsed": true
   },
   "outputs": [],
   "source": [
    "# con one hot encoder transformo mi vector de categorias (detalladas como numeros)\n",
    "# en vectores de 1 y 0s , que tienen tantas posicoines como categorias.\n",
    "onehot_encoded = ohenc.fit_transform(property_type_le)"
   ]
  },
  {
   "cell_type": "code",
   "execution_count": null,
   "metadata": {
    "collapsed": false
   },
   "outputs": [],
   "source": [
    "onehot_encoded"
   ]
  },
  {
   "cell_type": "code",
   "execution_count": 31,
   "metadata": {
    "collapsed": false
   },
   "outputs": [],
   "source": [
    "# transformo mi array de numpy \"one hot encoded\" a un dataframe y le asigno los nombres \n",
    "# de las columnas segun la categoria para acordarme que significa cada columna\n",
    "onehot_pd = pd.DataFrame(onehot_encoded, index = properati.index , columns = le_proptype.classes_)"
   ]
  },
  {
   "cell_type": "code",
   "execution_count": null,
   "metadata": {
    "collapsed": false
   },
   "outputs": [],
   "source": [
    "onehot_pd.head()"
   ]
  }
 ],
 "metadata": {
  "kernelspec": {
   "display_name": "Python 3",
   "language": "python",
   "name": "python3"
  },
  "language_info": {
   "codemirror_mode": {
    "name": "ipython",
    "version": 3
   },
   "file_extension": ".py",
   "mimetype": "text/x-python",
   "name": "python",
   "nbconvert_exporter": "python",
   "pygments_lexer": "ipython3",
   "version": "3.7.1"
  }
 },
 "nbformat": 4,
 "nbformat_minor": 2
}
