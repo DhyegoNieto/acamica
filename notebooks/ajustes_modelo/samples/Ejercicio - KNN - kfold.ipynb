{
 "cells": [
  {
   "cell_type": "code",
   "execution_count": 1,
   "metadata": {},
   "outputs": [],
   "source": [
    "import warnings\n",
    "warnings.filterwarnings('ignore')"
   ]
  },
  {
   "cell_type": "markdown",
   "metadata": {},
   "source": [
    "# Ejercicio sobre contenidos de los vinos"
   ]
  },
  {
   "cell_type": "markdown",
   "metadata": {},
   "source": [
    "Vamos a hacer un analisis de los datos relevados a tres clases de vinos cultivados en la misma region de Italia.\n",
    "\n",
    "Las tres clases de vinos fueron sometidas analisis quimicos, donde se midieron un total de 13 caracteristicas."
   ]
  },
  {
   "cell_type": "markdown",
   "metadata": {},
   "source": [
    "## Datos"
   ]
  },
  {
   "cell_type": "markdown",
   "metadata": {},
   "source": [
    "Los datos crudos se pueden descargar de https://archive.ics.uci.edu/ml/datasets/wine\n",
    "\n",
    "En este ejercicio se utilizaran datos que ya han sido procesados y limpiados a partir de los datos crudos.\n",
    "\n",
    "**Archivo de datos:** 'datos_vinos_limpios.csv'"
   ]
  },
  {
   "cell_type": "markdown",
   "metadata": {},
   "source": [
    "## Objetivo"
   ]
  },
  {
   "cell_type": "markdown",
   "metadata": {},
   "source": [
    "Crear un modelo que clasifique un vino a partir de sus caracteristicas quimicas."
   ]
  },
  {
   "cell_type": "markdown",
   "metadata": {},
   "source": [
    "## Procedimiento General"
   ]
  },
  {
   "cell_type": "markdown",
   "metadata": {},
   "source": [
    "1. Librerias y Datos\n",
    "    1. Importar librerias\n",
    "    2. Importar Datos\n",
    "    3. Revisar Datos\n",
    "2. Modelar\n",
    "    1. Seleccionar variables y objetivo\n",
    "    2. Train-test split\n",
    "    3. Normalizar\n",
    "    4. Modelo KNN\n",
    "    5. Ver resultado con matriz de confusion\n",
    "3. Validar modelo con cross-validation\n",
    "4. Modelo Final\n",
    "    1. Evaluar en nuevos datos"
   ]
  },
  {
   "cell_type": "markdown",
   "metadata": {},
   "source": [
    "-----"
   ]
  },
  {
   "cell_type": "markdown",
   "metadata": {},
   "source": [
    "## Librerias y Datos"
   ]
  },
  {
   "cell_type": "markdown",
   "metadata": {},
   "source": [
    "1) Importar las librerias necesarias:\n",
    "    - pandas\n",
    "    - KNeighborsClassifier (para armar un modelo KNN)\n",
    "    - preprocessing (para normalizar los datos)\n",
    "    - train_test_split (para particionar los datos)"
   ]
  },
  {
   "cell_type": "code",
   "execution_count": 6,
   "metadata": {},
   "outputs": [],
   "source": [
    "import pandas as pd\n",
    "from sklearn.neighbors import KNeighborsClassifier\n",
    "from sklearn.preprocessing import StandardScaler\n",
    "from sklearn.model_selection import train_test_split"
   ]
  },
  {
   "cell_type": "markdown",
   "metadata": {},
   "source": [
    "2) Leer los datos de los vinos"
   ]
  },
  {
   "cell_type": "code",
   "execution_count": 5,
   "metadata": {},
   "outputs": [],
   "source": [
    "vinos = pd.read_csv('datos_vinos_limpios.csv')"
   ]
  },
  {
   "cell_type": "code",
   "execution_count": 7,
   "metadata": {},
   "outputs": [
    {
     "data": {
      "text/plain": [
       "Clase                           0\n",
       "Alcohol                         0\n",
       "Malic.acid                      0\n",
       "Ash                             0\n",
       "Alcalinity.of.ash               0\n",
       "Magnesium                       0\n",
       "Total.phenols                   0\n",
       "Flavanoids                      0\n",
       "Nonflavanoid.phenols            0\n",
       "Proanthocyanins                 0\n",
       "Color.intensity                 0\n",
       "Hue                             0\n",
       "OD280.OD315.of.diluted.wines    0\n",
       "Proline                         0\n",
       "dtype: int64"
      ]
     },
     "execution_count": 7,
     "metadata": {},
     "output_type": "execute_result"
    }
   ],
   "source": [
    "vinos.isnull().sum()"
   ]
  },
  {
   "cell_type": "code",
   "execution_count": 8,
   "metadata": {},
   "outputs": [
    {
     "data": {
      "text/plain": [
       "Clase                             int64\n",
       "Alcohol                         float64\n",
       "Malic.acid                      float64\n",
       "Ash                             float64\n",
       "Alcalinity.of.ash               float64\n",
       "Magnesium                         int64\n",
       "Total.phenols                   float64\n",
       "Flavanoids                      float64\n",
       "Nonflavanoid.phenols            float64\n",
       "Proanthocyanins                 float64\n",
       "Color.intensity                 float64\n",
       "Hue                             float64\n",
       "OD280.OD315.of.diluted.wines    float64\n",
       "Proline                           int64\n",
       "dtype: object"
      ]
     },
     "execution_count": 8,
     "metadata": {},
     "output_type": "execute_result"
    }
   ],
   "source": [
    "vinos.dtypes"
   ]
  },
  {
   "cell_type": "markdown",
   "metadata": {},
   "source": [
    "3) Nunca asumir que los datos estan limpios. Revisar:\n",
    "    - tipo de datos (KNN requiere todas las columnas numericas salvo la clasificacion)"
   ]
  },
  {
   "cell_type": "code",
   "execution_count": null,
   "metadata": {},
   "outputs": [],
   "source": []
  },
  {
   "cell_type": "markdown",
   "metadata": {},
   "source": [
    "    - que no haya nulos (ver cantidad de nulos por columna)"
   ]
  },
  {
   "cell_type": "code",
   "execution_count": null,
   "metadata": {},
   "outputs": [],
   "source": []
  },
  {
   "cell_type": "markdown",
   "metadata": {},
   "source": [
    "Obs: *Si hay que limpiar, conviene hacerlo en otro notebook y guardar datos limpios en otro csv para luego cargar aca*"
   ]
  },
  {
   "cell_type": "markdown",
   "metadata": {},
   "source": [
    "## Modelo"
   ]
  },
  {
   "cell_type": "markdown",
   "metadata": {},
   "source": [
    "### Seleccionar variables y objetivo\n",
    "Vamos a utilizar la columna 'Clase' como `objetivo` y las columnas restantes como `datos` del modelo"
   ]
  },
  {
   "cell_type": "markdown",
   "metadata": {},
   "source": [
    "4. Crear `datos` (todas menos 'Clase') y `objetivo` (columna 'Clase')"
   ]
  },
  {
   "cell_type": "code",
   "execution_count": null,
   "metadata": {},
   "outputs": [],
   "source": [
    "datos = vinos.drop(.......)\n",
    "objetivo = vinos[........]"
   ]
  },
  {
   "cell_type": "markdown",
   "metadata": {},
   "source": [
    "### Separar datos en train y test"
   ]
  },
  {
   "cell_type": "markdown",
   "metadata": {},
   "source": [
    "5. Separar `datos` y `objetivo` en dos conjuntos de entrenamiento y prueba (Googlear: *test train split python*).\n",
    "    \n",
    "    Utilizar:\n",
    "    - test_size: 25%\n",
    "    - random_state: 111"
   ]
  },
  {
   "cell_type": "code",
   "execution_count": null,
   "metadata": {},
   "outputs": [],
   "source": [
    "datos_entrenamiento, datos_prueba, objetivo_entrenamiento, objetivo_prueba = train_test_split(...., ...., test_size=...., random_state=....)"
   ]
  },
  {
   "cell_type": "markdown",
   "metadata": {},
   "source": [
    "### Normalizar los datos\n",
    "No todos los modelos necesitan un normalizado previo de los datos, pero los que si, sin el normalizado funcionan mal. KNN es uno de esos modelos que se benefician de un normalizado previo.\n",
    "\n",
    "Antes de modelar con KNN es necesario que todos los datos esten dentro de la misma escala. Para lograr esto vamos a normalizar los datos restando el valor medio y dividiendo por el desvio estandard.  La biblioteca `preprocessing` tiene el metodo `.StandardScaler()` que hace exactamente eso.\n",
    "6. Crear una transformacion estandar (StandardScaler) que usa los datos de entrenamiento y guardarla en `normalizador`. Esto requiere:\n",
    "    - `.StandardScaler()`\n",
    "    - `normalizador`\n",
    "    - `.fit(datos_entrenamiento)`\n",
    "    - `preprocessing`"
   ]
  },
  {
   "cell_type": "code",
   "execution_count": null,
   "metadata": {},
   "outputs": [],
   "source": [
    "normalizador = preprocessing.****().****(****)"
   ]
  },
  {
   "cell_type": "markdown",
   "metadata": {},
   "source": [
    "7. Con el `normalizador` creado, ahora si normalizar los datos de entrenamiento y los de test. Esto requiere:\n",
    "    - `normalizador`\n",
    "    - `.transform(data a transformar)`\n",
    "    - guardar en otra variable (por las dudas)"
   ]
  },
  {
   "cell_type": "code",
   "execution_count": null,
   "metadata": {},
   "outputs": [],
   "source": [
    "datos_entrenamiento_norm = normalizador.*****(*****)"
   ]
  },
  {
   "cell_type": "markdown",
   "metadata": {},
   "source": [
    "### Modelo KNN\n",
    "Ahora si, comencemos a armar un modelo KNN.\n",
    "\n",
    "8. Definir cuantos `vecinos` vamos a usar (en este caso: 10)"
   ]
  },
  {
   "cell_type": "code",
   "execution_count": null,
   "metadata": {},
   "outputs": [],
   "source": [
    "vecinos = 10"
   ]
  },
  {
   "cell_type": "markdown",
   "metadata": {},
   "source": [
    "9. Crear el modelo usando:\n",
    "    - `weights`: `uniform`\n",
    "    - `vecinos`\n",
    "    - `KNeighborsClassifier`\n",
    "    - guardarlo en la variable `modelo`"
   ]
  },
  {
   "cell_type": "code",
   "execution_count": null,
   "metadata": {},
   "outputs": [],
   "source": [
    "modelo = KN......( ....., weights=....)"
   ]
  },
  {
   "cell_type": "markdown",
   "metadata": {},
   "source": [
    "10. Y ahora hacer el fit con los datos y objetivo de entrenamiento. Usar:\n",
    "    - `.fit()`\n",
    "    - `datos_entrenamiento_norm`\n",
    "    - `objetivo_entrenamiento`\n",
    "    - no hace falta asignarlo a una variable"
   ]
  },
  {
   "cell_type": "code",
   "execution_count": null,
   "metadata": {},
   "outputs": [],
   "source": [
    "modelo.fit(......, .......)"
   ]
  },
  {
   "cell_type": "markdown",
   "metadata": {},
   "source": [
    "-----\n",
    "### El modelo esta listo!\n",
    "-----\n",
    "### Validacion\n",
    "Ahora que tenemos el modelo listo, tenemos que validarlo con los datos y objetivo de prueba.\n",
    "\n",
    "Ya que es un problema de clasificacion podemos visualizar el resultado usando una matriz de confusion\n",
    "#### Prediccion\n",
    "11. Predecir la clase resultante para los datos de prueba. Usar:\n",
    "    - `.predict(data)`\n",
    "    - `modelo`\n",
    "    - `datos de prueba (normalizados o no?)`\n",
    "    - guardarlo en `objetivo_prediccion`"
   ]
  },
  {
   "cell_type": "code",
   "execution_count": null,
   "metadata": {},
   "outputs": [],
   "source": [
    "objetivo_prediccion = modelo.******( ******.*****(******))"
   ]
  },
  {
   "cell_type": "markdown",
   "metadata": {},
   "source": [
    "#### Matriz de confusion\n",
    "\n",
    "Pandas tiene un metodo que crea la matriz de confusion entre lo predecido y real. \n",
    "\n",
    "12. Crear la matriz de confusion. Necesitan:\n",
    "    - objetivo de prueba\n",
    "    - objetivo predecido\n",
    "    - `pd.crosstab()`\n",
    "    - colnames: \"Predecido\"\n",
    "    - rownames: \"Real\"\n",
    "    - margins: True"
   ]
  },
  {
   "cell_type": "code",
   "execution_count": null,
   "metadata": {},
   "outputs": [],
   "source": [
    "pd.crosstab( ....., ......, rownames=['Real'], colnames=['Predecido'], margins=True)"
   ]
  },
  {
   "cell_type": "markdown",
   "metadata": {},
   "source": [
    "------"
   ]
  },
  {
   "cell_type": "markdown",
   "metadata": {},
   "source": [
    "## Cross Validation"
   ]
  },
  {
   "cell_type": "markdown",
   "metadata": {},
   "source": [
    "Ahora vamos a hacer una validacion del modelo KNN usando cross validation (**K-Fold validation**)."
   ]
  },
  {
   "cell_type": "markdown",
   "metadata": {},
   "source": [
    "13. Importar las librerias para evaluar cross validation\n",
    "    - cross_val_score\n",
    "    - metrics"
   ]
  },
  {
   "cell_type": "code",
   "execution_count": null,
   "metadata": {},
   "outputs": [],
   "source": [
    "from sklearn.******* import *******\n",
    "from sklearn import *******"
   ]
  },
  {
   "cell_type": "markdown",
   "metadata": {},
   "source": [
    "14. Crear el modelo (mismo codigo que en el paso 9.)"
   ]
  },
  {
   "cell_type": "code",
   "execution_count": null,
   "metadata": {},
   "outputs": [],
   "source": [
    "vecinos = 10\n",
    ".......... = ............"
   ]
  },
  {
   "cell_type": "markdown",
   "metadata": {},
   "source": [
    "15. Evaluar los scores con `cross_val_score()`. Sus parametros son:\n",
    "    - modelo\n",
    "    - datos\n",
    "    - cv: 5 grupos para el cross-validation (K-Fold)\n",
    "    - scoring: funcion de scoring (usar: 'accuracy')"
   ]
  },
  {
   "cell_type": "code",
   "execution_count": null,
   "metadata": {},
   "outputs": [],
   "source": [
    "scores = cross_val_score( ......, datos, ......, cv= ..., scoring=.....)\n",
    "scores"
   ]
  },
  {
   "cell_type": "markdown",
   "metadata": {},
   "source": [
    "16. Los 'datos' en el paso anterior estaban normalizados? NO! Normalizar usando el normalizador que usamos arriba:\n",
    "    - normalizador.transform(*data*)"
   ]
  },
  {
   "cell_type": "code",
   "execution_count": null,
   "metadata": {},
   "outputs": [],
   "source": [
    "scores = ........( ......, normalizador....... , ...... , cv= ..., ......='accuracy')\n",
    "scores"
   ]
  },
  {
   "cell_type": "markdown",
   "metadata": {},
   "source": [
    "Obs: *Esta claro que el normalizador habia sido creado y fiteado en la particion de training y que ahora se lo estamos aplicando a todos los datos. Esto no 100% correcto porque en la particion train-test podrian haber caido outliers en el set de test.*"
   ]
  },
  {
   "cell_type": "markdown",
   "metadata": {},
   "source": [
    "-------"
   ]
  },
  {
   "cell_type": "markdown",
   "metadata": {},
   "source": [
    "## Modelo final"
   ]
  },
  {
   "cell_type": "code",
   "execution_count": null,
   "metadata": {},
   "outputs": [],
   "source": [
    "import warnings\n",
    "warnings.filterwarnings('ignore')"
   ]
  },
  {
   "cell_type": "code",
   "execution_count": null,
   "metadata": {},
   "outputs": [],
   "source": [
    "import pandas\n",
    "from sklearn.neighbors\n",
    "from sklearn\n",
    "\n",
    "vecinos =\n",
    "\n",
    "vinos = \n",
    "datos = \n",
    "objetivo = \n",
    "normalizador =      #Ojo, tiene que tener el fit incluido!\n",
    "modelo =            #Ojo, tiene que tener el fit incluido! Y con todos los datos conocidos"
   ]
  },
  {
   "cell_type": "markdown",
   "metadata": {},
   "source": [
    "Leer los datos nuevos desde el archivo 'Vinos_desconocidos.csv'"
   ]
  },
  {
   "cell_type": "code",
   "execution_count": null,
   "metadata": {},
   "outputs": [],
   "source": [
    "nuevos_vinos = "
   ]
  },
  {
   "cell_type": "markdown",
   "metadata": {},
   "source": [
    "Catalogar los tres vinos desconocidos"
   ]
  },
  {
   "cell_type": "code",
   "execution_count": null,
   "metadata": {},
   "outputs": [],
   "source": [
    "modelo.predict(.......)"
   ]
  },
  {
   "cell_type": "markdown",
   "metadata": {},
   "source": [
    "Si todo salio bien, los tres vinos son de Clase 1, 2 y 3 respectivamente."
   ]
  }
 ],
 "metadata": {
  "kernelspec": {
   "display_name": "Python 3",
   "language": "python",
   "name": "python3"
  },
  "language_info": {
   "codemirror_mode": {
    "name": "ipython",
    "version": 3
   },
   "file_extension": ".py",
   "mimetype": "text/x-python",
   "name": "python",
   "nbconvert_exporter": "python",
   "pygments_lexer": "ipython3",
   "version": "3.6.8"
  }
 },
 "nbformat": 4,
 "nbformat_minor": 2
}
